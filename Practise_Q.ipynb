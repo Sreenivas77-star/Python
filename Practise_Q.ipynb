{
  "nbformat": 4,
  "nbformat_minor": 0,
  "metadata": {
    "colab": {
      "provenance": [],
      "authorship_tag": "ABX9TyPzU63O5ENkOiRvs9X4vRd3",
      "include_colab_link": true
    },
    "kernelspec": {
      "name": "python3",
      "display_name": "Python 3"
    },
    "language_info": {
      "name": "python"
    }
  },
  "cells": [
    {
      "cell_type": "markdown",
      "metadata": {
        "id": "view-in-github",
        "colab_type": "text"
      },
      "source": [
        "<a href=\"https://colab.research.google.com/github/Sreenivas77-star/Python/blob/main/Practise_Q.ipynb\" target=\"_parent\"><img src=\"https://colab.research.google.com/assets/colab-badge.svg\" alt=\"Open In Colab\"/></a>"
      ]
    },
    {
      "cell_type": "code",
      "execution_count": 1,
      "metadata": {
        "id": "nA6ZZYzJQBzL",
        "colab": {
          "base_uri": "https://localhost:8080/"
        },
        "outputId": "d3cef8be-9e08-4e86-ec90-b199b892bee2"
      },
      "outputs": [
        {
          "output_type": "stream",
          "name": "stdout",
          "text": [
            "['u', 'o', 'i', 'e', 'a']\n"
          ]
        }
      ],
      "source": [
        "String =[\"a\",\"e\",\"i\",\"o\",\"u\"]\n",
        "reversed_String = String[::-1]\n",
        "print(reversed_String)"
      ]
    },
    {
      "cell_type": "code",
      "source": [
        "reversed_String.replace()\n",
        "print()\n"
      ],
      "metadata": {
        "colab": {
          "base_uri": "https://localhost:8080/",
          "height": 141
        },
        "id": "mYBNcPCVWtuD",
        "outputId": "11c938f4-76af-4b1a-981f-019aaaaf1a3e"
      },
      "execution_count": 4,
      "outputs": [
        {
          "output_type": "error",
          "ename": "AttributeError",
          "evalue": "'list' object has no attribute 'replace'",
          "traceback": [
            "\u001b[0;31m---------------------------------------------------------------------------\u001b[0m",
            "\u001b[0;31mAttributeError\u001b[0m                            Traceback (most recent call last)",
            "\u001b[0;32m<ipython-input-4-b8637a365049>\u001b[0m in \u001b[0;36m<cell line: 1>\u001b[0;34m()\u001b[0m\n\u001b[0;32m----> 1\u001b[0;31m \u001b[0mreversed_String\u001b[0m\u001b[0;34m.\u001b[0m\u001b[0mreplace\u001b[0m\u001b[0;34m(\u001b[0m\u001b[0;34m)\u001b[0m\u001b[0;34m\u001b[0m\u001b[0;34m\u001b[0m\u001b[0m\n\u001b[0m",
            "\u001b[0;31mAttributeError\u001b[0m: 'list' object has no attribute 'replace'"
          ]
        }
      ]
    },
    {
      "cell_type": "code",
      "source": [
        "def reverse_and_replace_vowels(string):\n",
        "    # Define vowels and their alphabet positions\n",
        "    vowel_map = {'a': '1', 'e': '5', 'i': '9', 'o': '15', 'u': '21',\n",
        "                 'A': '1', 'E': '5', 'I': '9', 'O': '15', 'U': '21'}\n",
        "\n",
        "    # Reverse the string\n",
        "    reversed_string = string[::-1]\n",
        "\n",
        "    # Initialize an empty string for the result\n",
        "    result = ''\n",
        "\n",
        "    # Replace vowels in the reversed string with their position\n",
        "    for char in reversed_string:\n",
        "        if char in vowel_map:\n",
        "            result += vowel_map[char]  # Add vowel's position to result string\n",
        "        else:\n",
        "            result += char  # Add non-vowel characters to result string\n",
        "\n",
        "    # Print the final result\n",
        "    print(result)\n",
        "\n",
        "# Test the function\n",
        "input_str = \"hello world\"\n",
        "reverse_and_replace_vowels(input_str)  # Output: \"dlr15w 5ll1h\""
      ],
      "metadata": {
        "colab": {
          "base_uri": "https://localhost:8080/"
        },
        "id": "E0shLt_hXn5F",
        "outputId": "ef1b4365-4f94-47be-cf20-7ead7db931c3"
      },
      "execution_count": 22,
      "outputs": [
        {
          "output_type": "stream",
          "name": "stdout",
          "text": [
            "dlr15w 15ll5h\n"
          ]
        }
      ]
    },
    {
      "cell_type": "code",
      "source": [
        "import string\n",
        "\n",
        "def is_palindrome(s):\n",
        "    # Remove punctuation, spaces, and convert to lowercase\n",
        "    cleaned_string = ''.join(char.lower() for char in s if char.isalnum())\n",
        "\n",
        "    # Check if the cleaned string is the same as its reverse\n",
        "    return cleaned_string == cleaned_string[::-1]\n",
        "\n",
        "# Test cases\n",
        "print(is_palindrome(\"A man, a plan, a canal, Panama\"))  # Output: True\n",
        "print(is_palindrome(\"racecar\"))  # Output: True\n",
        "print(is_palindrome(\"hello\"))    # Output: False\n"
      ],
      "metadata": {
        "colab": {
          "base_uri": "https://localhost:8080/"
        },
        "id": "NNy2KpI3nr_j",
        "outputId": "087341ec-e7ed-4e1a-8dcc-3d5a361216f0"
      },
      "execution_count": 23,
      "outputs": [
        {
          "output_type": "stream",
          "name": "stdout",
          "text": [
            "True\n",
            "True\n",
            "False\n"
          ]
        }
      ]
    },
    {
      "cell_type": "code",
      "source": [
        "import random\n",
        "\n",
        "def generate_fibonacci(n):\n",
        "    # Generate two random numbers between 1 and 10 to start the sequence\n",
        "    first, second = random.randint(1, 10), random.randint(1, 10)\n",
        "\n",
        "    # Initialize the Fibonacci sequence with the first two random numbers\n",
        "    fibonacci_sequence = [first, second]\n",
        "\n",
        "    # Generate the next n-2 Fibonacci numbers\n",
        "    for _ in range(2, n):\n",
        "        next_number = fibonacci_sequence[-1] + fibonacci_sequence[-2]\n",
        "        fibonacci_sequence.append(next_number)\n",
        "\n",
        "    return fibonacci_sequence\n",
        "\n",
        "# Test the function\n",
        "n = 10  # Generate the first 10 Fibonacci numbers\n",
        "fib_sequence = generate_fibonacci(n)\n",
        "print(fib_sequence)"
      ],
      "metadata": {
        "colab": {
          "base_uri": "https://localhost:8080/"
        },
        "id": "G2swVDq-qVMq",
        "outputId": "d47df390-6fa9-472c-8bc8-e2b39cb988b8"
      },
      "execution_count": 24,
      "outputs": [
        {
          "output_type": "stream",
          "name": "stdout",
          "text": [
            "[4, 5, 9, 14, 23, 37, 60, 97, 157, 254]\n"
          ]
        }
      ]
    },
    {
      "cell_type": "code",
      "source": [
        "string = \"hello\"\n",
        "reversed_string = string[::-1]\n",
        "print(reversed_string)"
      ],
      "metadata": {
        "colab": {
          "base_uri": "https://localhost:8080/"
        },
        "id": "qT1r93dPqgn-",
        "outputId": "176c1ebd-9887-47f0-af84-dcd9fa9c5fea"
      },
      "execution_count": 27,
      "outputs": [
        {
          "output_type": "stream",
          "name": "stdout",
          "text": [
            "olleh\n"
          ]
        }
      ]
    },
    {
      "cell_type": "code",
      "source": [
        "words = text.split()\n",
        "text = \"hello world\"\n",
        "print(words)"
      ],
      "metadata": {
        "colab": {
          "base_uri": "https://localhost:8080/",
          "height": 176
        },
        "id": "wpEepZ8qsZKW",
        "outputId": "5d001a5f-d027-4d90-9503-a6b2e749219c"
      },
      "execution_count": 30,
      "outputs": [
        {
          "output_type": "error",
          "ename": "NameError",
          "evalue": "name 'text' is not defined",
          "traceback": [
            "\u001b[0;31m---------------------------------------------------------------------------\u001b[0m",
            "\u001b[0;31mNameError\u001b[0m                                 Traceback (most recent call last)",
            "\u001b[0;32m<ipython-input-30-1ab801204664>\u001b[0m in \u001b[0;36m<cell line: 1>\u001b[0;34m()\u001b[0m\n\u001b[0;32m----> 1\u001b[0;31m \u001b[0mwords\u001b[0m \u001b[0;34m=\u001b[0m \u001b[0mtext\u001b[0m\u001b[0;34m.\u001b[0m\u001b[0msplit\u001b[0m\u001b[0;34m(\u001b[0m\u001b[0;34m)\u001b[0m\u001b[0;34m\u001b[0m\u001b[0;34m\u001b[0m\u001b[0m\n\u001b[0m\u001b[1;32m      2\u001b[0m \u001b[0mtext\u001b[0m \u001b[0;34m=\u001b[0m \u001b[0;34m\"hello world\"\u001b[0m\u001b[0;34m\u001b[0m\u001b[0;34m\u001b[0m\u001b[0m\n\u001b[1;32m      3\u001b[0m \u001b[0mprint\u001b[0m\u001b[0;34m(\u001b[0m\u001b[0mwords\u001b[0m\u001b[0;34m)\u001b[0m\u001b[0;34m\u001b[0m\u001b[0;34m\u001b[0m\u001b[0m\n",
            "\u001b[0;31mNameError\u001b[0m: name 'text' is not defined"
          ]
        }
      ]
    },
    {
      "cell_type": "code",
      "source": [],
      "metadata": {
        "colab": {
          "base_uri": "https://localhost:8080/",
          "height": 228
        },
        "id": "F_Ofh-Cqs8sq",
        "outputId": "70f32661-fe5d-4ed9-b29d-8d01e101ad72"
      },
      "execution_count": 33,
      "outputs": [
        {
          "output_type": "error",
          "ename": "NameError",
          "evalue": "name 'text' is not defined",
          "traceback": [
            "\u001b[0;31m---------------------------------------------------------------------------\u001b[0m",
            "\u001b[0;31mNameError\u001b[0m                                 Traceback (most recent call last)",
            "\u001b[0;32m<ipython-input-33-b28ef58b59d3>\u001b[0m in \u001b[0;36m<cell line: 1>\u001b[0;34m()\u001b[0m\n\u001b[0;32m----> 1\u001b[0;31m \u001b[0mwords\u001b[0m \u001b[0;34m=\u001b[0m \u001b[0mtext\u001b[0m\u001b[0;34m.\u001b[0m\u001b[0msplit\u001b[0m\u001b[0;34m(\u001b[0m\u001b[0;34m)\u001b[0m  \u001b[0;31m# Split the string into words\u001b[0m\u001b[0;34m\u001b[0m\u001b[0;34m\u001b[0m\u001b[0m\n\u001b[0m\u001b[1;32m      2\u001b[0m \u001b[0mreversed_words\u001b[0m \u001b[0;34m=\u001b[0m \u001b[0mwords\u001b[0m\u001b[0;34m[\u001b[0m\u001b[0;34m:\u001b[0m\u001b[0;34m:\u001b[0m\u001b[0;34m-\u001b[0m\u001b[0;36m1\u001b[0m\u001b[0;34m]\u001b[0m  \u001b[0;31m# Reverse the list of words\u001b[0m\u001b[0;34m\u001b[0m\u001b[0;34m\u001b[0m\u001b[0m\n\u001b[1;32m      3\u001b[0m \u001b[0;32mreturn\u001b[0m \u001b[0;34m\" \"\u001b[0m\u001b[0;34m.\u001b[0m\u001b[0mjoin\u001b[0m\u001b[0;34m(\u001b[0m\u001b[0mreversed_words\u001b[0m\u001b[0;34m)\u001b[0m  \u001b[0;31m# Join the reversed words back into a string\u001b[0m\u001b[0;34m\u001b[0m\u001b[0;34m\u001b[0m\u001b[0m\n\u001b[1;32m      4\u001b[0m \u001b[0;34m\u001b[0m\u001b[0m\n\u001b[1;32m      5\u001b[0m \u001b[0;31m# Example usage\u001b[0m\u001b[0;34m\u001b[0m\u001b[0;34m\u001b[0m\u001b[0m\n",
            "\u001b[0;31mNameError\u001b[0m: name 'text' is not defined"
          ]
        }
      ]
    },
    {
      "cell_type": "code",
      "source": [
        "def reverse_words(text):\n",
        "  \"\"\"Reverses the words in a string.\n",
        "\n",
        "  Args:\n",
        "    text: The string to reverse.\n",
        "\n",
        "  Returns:\n",
        "    The string with the words reversed.\n",
        "  \"\"\"\n",
        "  words = text.split()  # Split the string into words\n",
        "  reversed_words = words[::-1]  # Reverse the list of words\n",
        "  return ' '.join(reversed_words)  # Join the reversed words back into a string\n",
        "\n",
        "# Example usage\n",
        "text = \"hello world\"\n",
        "reversed_text = reverse_words(text)\n",
        "print(reversed_text)"
      ],
      "metadata": {
        "colab": {
          "base_uri": "https://localhost:8080/"
        },
        "id": "9kW9AXwbtUMN",
        "outputId": "0a998403-7a65-4888-f983-fa9ae52cadc4"
      },
      "execution_count": 37,
      "outputs": [
        {
          "output_type": "stream",
          "name": "stdout",
          "text": [
            "world hello\n"
          ]
        }
      ]
    },
    {
      "cell_type": "code",
      "source": [
        "def format_output(text):\n",
        "       # ... your formatting logic here ...\n",
        "       return formatted_text\n",
        "\n",
        "   def reverse_words(text):\n",
        "       # ... your word reversal logic ...\n",
        "       return format_output(reversed_words)"
      ],
      "metadata": {
        "colab": {
          "base_uri": "https://localhost:8080/",
          "height": 106
        },
        "id": "vRm0MCduvwUF",
        "outputId": "66c29237-3ec2-4bef-8a8f-f706b136e476"
      },
      "execution_count": 41,
      "outputs": [
        {
          "output_type": "error",
          "ename": "IndentationError",
          "evalue": "unindent does not match any outer indentation level (<tokenize>, line 5)",
          "traceback": [
            "\u001b[0;36m  File \u001b[0;32m\"<tokenize>\"\u001b[0;36m, line \u001b[0;32m5\u001b[0m\n\u001b[0;31m    def reverse_words(text):\u001b[0m\n\u001b[0m    ^\u001b[0m\n\u001b[0;31mIndentationError\u001b[0m\u001b[0;31m:\u001b[0m unindent does not match any outer indentation level\n"
          ]
        }
      ]
    },
    {
      "cell_type": "code",
      "source": [
        "words = text.split()\n",
        "text = \"hello world\"\n",
        "print(words)"
      ],
      "metadata": {
        "colab": {
          "base_uri": "https://localhost:8080/"
        },
        "id": "Q_ssgsAGwPc4",
        "outputId": "e2c9bb6c-f6fa-4993-8e70-1f24458f863c"
      },
      "execution_count": 59,
      "outputs": [
        {
          "output_type": "stream",
          "name": "stdout",
          "text": [
            "['hello', 'world']\n"
          ]
        }
      ]
    },
    {
      "cell_type": "code",
      "source": [
        "word = \"hello world\"\n",
        "reverse_word = word[::-1]\n",
        "print(reverse_word)\n"
      ],
      "metadata": {
        "colab": {
          "base_uri": "https://localhost:8080/"
        },
        "id": "VBnBOuDQMpxf",
        "outputId": "364306c0-c677-4894-aec4-041795f4bd6a"
      },
      "execution_count": 61,
      "outputs": [
        {
          "output_type": "stream",
          "name": "stdout",
          "text": [
            "dlrow olleh\n"
          ]
        }
      ]
    }
  ]
}