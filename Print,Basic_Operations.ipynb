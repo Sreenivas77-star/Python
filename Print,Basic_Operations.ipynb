{
  "nbformat": 4,
  "nbformat_minor": 0,
  "metadata": {
    "colab": {
      "provenance": [],
      "authorship_tag": "ABX9TyOwVLHZ2RixoQyZkrypip2+",
      "include_colab_link": true
    },
    "kernelspec": {
      "name": "python3",
      "display_name": "Python 3"
    },
    "language_info": {
      "name": "python"
    }
  },
  "cells": [
    {
      "cell_type": "markdown",
      "metadata": {
        "id": "view-in-github",
        "colab_type": "text"
      },
      "source": [
        "<a href=\"https://colab.research.google.com/github/Sreenivas77-star/Python/blob/main/Print%2CBasic_Operations.ipynb\" target=\"_parent\"><img src=\"https://colab.research.google.com/assets/colab-badge.svg\" alt=\"Open In Colab\"/></a>"
      ]
    },
    {
      "cell_type": "markdown",
      "source": [],
      "metadata": {
        "id": "5S9FREubSpMX"
      }
    },
    {
      "cell_type": "code",
      "execution_count": 1,
      "metadata": {
        "colab": {
          "base_uri": "https://localhost:8080/"
        },
        "id": "d1QV-lZuSMcO",
        "outputId": "325edae5-b87c-4672-981d-962ce775c0b1"
      },
      "outputs": [
        {
          "output_type": "stream",
          "name": "stdout",
          "text": [
            "I Love Python\n"
          ]
        }
      ],
      "source": [
        "print(\"I Love Python\")"
      ]
    },
    {
      "cell_type": "code",
      "source": [
        "month =2"
      ],
      "metadata": {
        "id": "k46v8xylUbcv"
      },
      "execution_count": 3,
      "outputs": []
    },
    {
      "cell_type": "markdown",
      "source": [
        "## Data Types"
      ],
      "metadata": {
        "id": "WGKaiW9fUp7n"
      }
    },
    {
      "cell_type": "code",
      "source": [
        "age = 20  #int\n",
        "name = \"Alice\" # String\n",
        "price = 10.8  #float\n",
        "user_exists = True #boolean"
      ],
      "metadata": {
        "id": "7U5_uHX8Ut8H"
      },
      "execution_count": 4,
      "outputs": []
    },
    {
      "cell_type": "code",
      "source": [
        "type(user_exists)"
      ],
      "metadata": {
        "colab": {
          "base_uri": "https://localhost:8080/"
        },
        "id": "I1jbBXdkVAMN",
        "outputId": "63a57c62-682f-4a27-90d2-65b2fa89c06c"
      },
      "execution_count": 9,
      "outputs": [
        {
          "output_type": "execute_result",
          "data": {
            "text/plain": [
              "bool"
            ]
          },
          "metadata": {},
          "execution_count": 9
        }
      ]
    },
    {
      "cell_type": "code",
      "source": [
        "a = 0.11\n",
        "b = 0.2\n",
        "\n",
        "print(a+b)"
      ],
      "metadata": {
        "colab": {
          "base_uri": "https://localhost:8080/"
        },
        "id": "dRfNlt92Vm3Z",
        "outputId": "dfc441e8-461e-4b7c-d5d5-cf83260de960"
      },
      "execution_count": 11,
      "outputs": [
        {
          "output_type": "stream",
          "name": "stdout",
          "text": [
            "0.31\n"
          ]
        }
      ]
    },
    {
      "cell_type": "markdown",
      "source": [
        "###Comparision Operator\n",
        "\n",
        "== ---> equality !=--->Negitive Equality"
      ],
      "metadata": {
        "id": "Epa3rJvvV8oS"
      }
    },
    {
      "cell_type": "code",
      "source": [
        "x = 10\n",
        "y = 11"
      ],
      "metadata": {
        "id": "LC9P9FjCXCzE"
      },
      "execution_count": 15,
      "outputs": []
    },
    {
      "cell_type": "code",
      "source": [
        "print (x == y)\n",
        "print (x != y)\n",
        "print (x <= y)\n",
        "print (x >=y)"
      ],
      "metadata": {
        "colab": {
          "base_uri": "https://localhost:8080/"
        },
        "id": "ghKmy4X4XcIm",
        "outputId": "270be689-0443-44cc-b271-c9475fc0e552"
      },
      "execution_count": 17,
      "outputs": [
        {
          "output_type": "stream",
          "name": "stdout",
          "text": [
            "False\n",
            "True\n",
            "True\n",
            "False\n"
          ]
        }
      ]
    },
    {
      "cell_type": "markdown",
      "source": [
        "##If Conditionals"
      ],
      "metadata": {
        "id": "Hhmp86C2YU3-"
      }
    },
    {
      "cell_type": "code",
      "source": [
        "x = 10"
      ],
      "metadata": {
        "id": "QTd-pbQiYirF"
      },
      "execution_count": null,
      "outputs": []
    },
    {
      "cell_type": "code",
      "source": [
        "x==2"
      ],
      "metadata": {
        "colab": {
          "base_uri": "https://localhost:8080/"
        },
        "id": "odMduTI8Yqjj",
        "outputId": "f7c0a6ba-2f87-43bb-ade1-8bef46cd721e"
      },
      "execution_count": 18,
      "outputs": [
        {
          "output_type": "execute_result",
          "data": {
            "text/plain": [
              "False"
            ]
          },
          "metadata": {},
          "execution_count": 18
        }
      ]
    },
    {
      "cell_type": "code",
      "source": [
        "x = 2\n",
        "\n",
        "if x ==2:\n",
        "  print(\"x is 2\")\n",
        "else:\n",
        "  print(\"x is not 2\")"
      ],
      "metadata": {
        "colab": {
          "base_uri": "https://localhost:8080/"
        },
        "id": "kHuzjAttYx_L",
        "outputId": "2755a547-5fa7-4af3-fb00-1224bd2598f7"
      },
      "execution_count": 23,
      "outputs": [
        {
          "output_type": "stream",
          "name": "stdout",
          "text": [
            "x is 2\n"
          ]
        }
      ]
    },
    {
      "cell_type": "code",
      "source": [
        "x = 3\n",
        "\n",
        "if x < 2:\n",
        "  print(\"x is less than 2\")\n",
        "elif x >=2 and x <=10:\n",
        "  print(\"x is in Between of 2 and 10\")\n",
        "else:\n",
        "  print(\"x is Greater than 2\")"
      ],
      "metadata": {
        "colab": {
          "base_uri": "https://localhost:8080/"
        },
        "id": "Lw4lCp5FaDjg",
        "outputId": "234898b0-00cb-4861-d267-c87f6906a714"
      },
      "execution_count": 25,
      "outputs": [
        {
          "output_type": "stream",
          "name": "stdout",
          "text": [
            "x is in Between of 2 and 10\n"
          ]
        }
      ]
    },
    {
      "cell_type": "markdown",
      "source": [
        "## For Loops"
      ],
      "metadata": {
        "id": "rqBJWpRvbiPO"
      }
    },
    {
      "cell_type": "code",
      "source": [
        "list1 = [1,2,3,4,5,6,7,8,9,10]"
      ],
      "metadata": {
        "id": "AT5hNs70bmdE"
      },
      "execution_count": null,
      "outputs": []
    },
    {
      "cell_type": "code",
      "source": [
        "for item in list1:"
      ],
      "metadata": {
        "id": "lub33FF9cHAv"
      },
      "execution_count": null,
      "outputs": []
    }
  ]
}