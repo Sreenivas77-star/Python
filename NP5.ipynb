{
  "nbformat": 4,
  "nbformat_minor": 0,
  "metadata": {
    "colab": {
      "provenance": [],
      "authorship_tag": "ABX9TyNCG3p7hp77sR+lHGsPx8yF",
      "include_colab_link": true
    },
    "kernelspec": {
      "name": "python3",
      "display_name": "Python 3"
    },
    "language_info": {
      "name": "python"
    }
  },
  "cells": [
    {
      "cell_type": "markdown",
      "metadata": {
        "id": "view-in-github",
        "colab_type": "text"
      },
      "source": [
        "<a href=\"https://colab.research.google.com/github/Sreenivas77-star/Python/blob/main/NP5.ipynb\" target=\"_parent\"><img src=\"https://colab.research.google.com/assets/colab-badge.svg\" alt=\"Open In Colab\"/></a>"
      ]
    },
    {
      "cell_type": "code",
      "execution_count": 42,
      "metadata": {
        "id": "isatsDf5PY53"
      },
      "outputs": [],
      "source": [
        "import numpy as np"
      ]
    },
    {
      "cell_type": "code",
      "source": [
        "arr1 = np.random.randint(1,1000,15)\n",
        "arr1"
      ],
      "metadata": {
        "colab": {
          "base_uri": "https://localhost:8080/"
        },
        "id": "eE9n8aZxPhgp",
        "outputId": "e0f3ee7f-3f81-4b3a-81fc-d85c1e016393"
      },
      "execution_count": 43,
      "outputs": [
        {
          "output_type": "execute_result",
          "data": {
            "text/plain": [
              "array([138, 608,  20, 186, 262, 871, 525, 161, 372, 910, 275, 599, 450,\n",
              "       817,  17])"
            ]
          },
          "metadata": {},
          "execution_count": 43
        }
      ]
    },
    {
      "cell_type": "code",
      "source": [
        "arr1.reshape(5,3)"
      ],
      "metadata": {
        "colab": {
          "base_uri": "https://localhost:8080/"
        },
        "id": "JBalZPkVP0Ta",
        "outputId": "2b8c2b90-e36d-440e-f093-dd0a4e6b83b5"
      },
      "execution_count": 44,
      "outputs": [
        {
          "output_type": "execute_result",
          "data": {
            "text/plain": [
              "array([[138, 608,  20],\n",
              "       [186, 262, 871],\n",
              "       [525, 161, 372],\n",
              "       [910, 275, 599],\n",
              "       [450, 817,  17]])"
            ]
          },
          "metadata": {},
          "execution_count": 44
        }
      ]
    },
    {
      "cell_type": "code",
      "source": [
        "arr1.shape"
      ],
      "metadata": {
        "colab": {
          "base_uri": "https://localhost:8080/"
        },
        "id": "TcaLYIV1P4fW",
        "outputId": "f322bd6e-0a3c-47c3-cebd-9d4868db23c6"
      },
      "execution_count": 45,
      "outputs": [
        {
          "output_type": "execute_result",
          "data": {
            "text/plain": [
              "(15,)"
            ]
          },
          "metadata": {},
          "execution_count": 45
        }
      ]
    },
    {
      "cell_type": "code",
      "source": [
        "np.sort(arr1)"
      ],
      "metadata": {
        "colab": {
          "base_uri": "https://localhost:8080/"
        },
        "id": "VPIYmkEXQL-e",
        "outputId": "ae1b25f1-ab36-4b84-fee2-92458479fdc6"
      },
      "execution_count": 46,
      "outputs": [
        {
          "output_type": "execute_result",
          "data": {
            "text/plain": [
              "array([ 17,  20, 138, 161, 186, 262, 275, 372, 450, 525, 599, 608, 817,\n",
              "       871, 910])"
            ]
          },
          "metadata": {},
          "execution_count": 46
        }
      ]
    },
    {
      "cell_type": "code",
      "source": [
        "np.sort(arr1)[-1]"
      ],
      "metadata": {
        "colab": {
          "base_uri": "https://localhost:8080/"
        },
        "id": "4_Hq73mCQ16v",
        "outputId": "e115b6d8-7f8e-494a-8517-7102f7861cbd"
      },
      "execution_count": 47,
      "outputs": [
        {
          "output_type": "execute_result",
          "data": {
            "text/plain": [
              "910"
            ]
          },
          "metadata": {},
          "execution_count": 47
        }
      ]
    },
    {
      "cell_type": "code",
      "source": [
        "arr2 = np.random.randint(1,100,30).reshape(6,5)\n",
        "arr2"
      ],
      "metadata": {
        "colab": {
          "base_uri": "https://localhost:8080/"
        },
        "id": "Rn7HqzudRCmn",
        "outputId": "a4e56978-242a-44db-a910-c4a9b23195ce"
      },
      "execution_count": 49,
      "outputs": [
        {
          "output_type": "execute_result",
          "data": {
            "text/plain": [
              "array([[80, 82, 15,  6, 79],\n",
              "       [81, 26, 90, 70, 49],\n",
              "       [ 4, 75, 94, 97, 50],\n",
              "       [18, 83, 53, 25, 53],\n",
              "       [85, 50, 50, 91, 95],\n",
              "       [53, 23, 57, 62,  5]])"
            ]
          },
          "metadata": {},
          "execution_count": 49
        }
      ]
    },
    {
      "cell_type": "code",
      "source": [
        "np.sort(arr2)"
      ],
      "metadata": {
        "colab": {
          "base_uri": "https://localhost:8080/"
        },
        "id": "suur-mk-RNGm",
        "outputId": "f34059b4-a567-4217-98c4-85d44b828ee7"
      },
      "execution_count": 50,
      "outputs": [
        {
          "output_type": "execute_result",
          "data": {
            "text/plain": [
              "array([[ 6, 15, 79, 80, 82],\n",
              "       [26, 49, 70, 81, 90],\n",
              "       [ 4, 50, 75, 94, 97],\n",
              "       [18, 25, 53, 53, 83],\n",
              "       [50, 50, 85, 91, 95],\n",
              "       [ 5, 23, 53, 57, 62]])"
            ]
          },
          "metadata": {},
          "execution_count": 50
        }
      ]
    },
    {
      "cell_type": "code",
      "source": [
        "np.sort(arr2,axis=0)"
      ],
      "metadata": {
        "colab": {
          "base_uri": "https://localhost:8080/"
        },
        "id": "RoP4az0GRgNv",
        "outputId": "766f5bcf-bae9-4cdd-8bff-1fd175830cb7"
      },
      "execution_count": 51,
      "outputs": [
        {
          "output_type": "execute_result",
          "data": {
            "text/plain": [
              "array([[ 4, 23, 15,  6,  5],\n",
              "       [18, 26, 50, 25, 49],\n",
              "       [53, 50, 53, 62, 50],\n",
              "       [80, 75, 57, 70, 53],\n",
              "       [81, 82, 90, 91, 79],\n",
              "       [85, 83, 94, 97, 95]])"
            ]
          },
          "metadata": {},
          "execution_count": 51
        }
      ]
    },
    {
      "cell_type": "code",
      "source": [
        "np.sort(arr2,axis=0)[::-1]"
      ],
      "metadata": {
        "colab": {
          "base_uri": "https://localhost:8080/"
        },
        "id": "4CiDhFb3Rose",
        "outputId": "3501818b-2484-404b-ca36-4e8c38cec23f"
      },
      "execution_count": 52,
      "outputs": [
        {
          "output_type": "execute_result",
          "data": {
            "text/plain": [
              "array([[85, 83, 94, 97, 95],\n",
              "       [81, 82, 90, 91, 79],\n",
              "       [80, 75, 57, 70, 53],\n",
              "       [53, 50, 53, 62, 50],\n",
              "       [18, 26, 50, 25, 49],\n",
              "       [ 4, 23, 15,  6,  5]])"
            ]
          },
          "metadata": {},
          "execution_count": 52
        }
      ]
    },
    {
      "cell_type": "code",
      "source": [
        "#append\n",
        "arr1"
      ],
      "metadata": {
        "colab": {
          "base_uri": "https://localhost:8080/"
        },
        "id": "dB4L6B6BR01e",
        "outputId": "281ae8b2-73b0-4833-ecfd-daa88afc2f96"
      },
      "execution_count": 53,
      "outputs": [
        {
          "output_type": "execute_result",
          "data": {
            "text/plain": [
              "array([138, 608,  20, 186, 262, 871, 525, 161, 372, 910, 275, 599, 450,\n",
              "       817,  17])"
            ]
          },
          "metadata": {},
          "execution_count": 53
        }
      ]
    },
    {
      "cell_type": "code",
      "source": [
        "arr1.append[101]"
      ],
      "metadata": {
        "colab": {
          "base_uri": "https://localhost:8080/",
          "height": 141
        },
        "id": "qzwaxk11R4ul",
        "outputId": "6e5eaa66-3d4c-45c1-fff5-a7f1ee5617d0"
      },
      "execution_count": 57,
      "outputs": [
        {
          "output_type": "error",
          "ename": "AttributeError",
          "evalue": "'numpy.ndarray' object has no attribute 'append'",
          "traceback": [
            "\u001b[0;31m---------------------------------------------------------------------------\u001b[0m",
            "\u001b[0;31mAttributeError\u001b[0m                            Traceback (most recent call last)",
            "\u001b[0;32m<ipython-input-57-5ee390031210>\u001b[0m in \u001b[0;36m<cell line: 0>\u001b[0;34m()\u001b[0m\n\u001b[0;32m----> 1\u001b[0;31m \u001b[0marr1\u001b[0m\u001b[0;34m.\u001b[0m\u001b[0mappend\u001b[0m\u001b[0;34m[\u001b[0m\u001b[0;36m101\u001b[0m\u001b[0;34m]\u001b[0m\u001b[0;34m\u001b[0m\u001b[0;34m\u001b[0m\u001b[0m\n\u001b[0m",
            "\u001b[0;31mAttributeError\u001b[0m: 'numpy.ndarray' object has no attribute 'append'"
          ]
        }
      ]
    },
    {
      "cell_type": "code",
      "source": [
        "arr2"
      ],
      "metadata": {
        "colab": {
          "base_uri": "https://localhost:8080/"
        },
        "id": "BzlnyNt2SlT_",
        "outputId": "e235d260-545e-4419-d4d2-8fc2eb1aacdb"
      },
      "execution_count": 55,
      "outputs": [
        {
          "output_type": "execute_result",
          "data": {
            "text/plain": [
              "array([[80, 82, 15,  6, 79],\n",
              "       [81, 26, 90, 70, 49],\n",
              "       [ 4, 75, 94, 97, 50],\n",
              "       [18, 83, 53, 25, 53],\n",
              "       [85, 50, 50, 91, 95],\n",
              "       [53, 23, 57, 62,  5]])"
            ]
          },
          "metadata": {},
          "execution_count": 55
        }
      ]
    },
    {
      "cell_type": "code",
      "source": [
        "np.append(arr2,np.random.randint(1,100,6).reshape(6,1),axis=1)"
      ],
      "metadata": {
        "colab": {
          "base_uri": "https://localhost:8080/"
        },
        "id": "iViYb8T0SFsQ",
        "outputId": "f9259a25-0917-4f51-c440-5f6de2c74667"
      },
      "execution_count": 56,
      "outputs": [
        {
          "output_type": "execute_result",
          "data": {
            "text/plain": [
              "array([[80, 82, 15,  6, 79,  8],\n",
              "       [81, 26, 90, 70, 49, 32],\n",
              "       [ 4, 75, 94, 97, 50, 88],\n",
              "       [18, 83, 53, 25, 53, 75],\n",
              "       [85, 50, 50, 91, 95, 38],\n",
              "       [53, 23, 57, 62,  5, 62]])"
            ]
          },
          "metadata": {},
          "execution_count": 56
        }
      ]
    },
    {
      "cell_type": "code",
      "source": [
        "arr3 = np.random.randint(1,100,24).reshape(6,4)\n",
        "arr3"
      ],
      "metadata": {
        "colab": {
          "base_uri": "https://localhost:8080/"
        },
        "id": "m006BBFtS2ay",
        "outputId": "9f9dacfa-8b25-47fb-8c3a-94f7fa7ddad0"
      },
      "execution_count": 58,
      "outputs": [
        {
          "output_type": "execute_result",
          "data": {
            "text/plain": [
              "array([[34, 22, 34, 90],\n",
              "       [10, 99, 27, 60],\n",
              "       [58, 39, 89, 61],\n",
              "       [42, 14, 87, 45],\n",
              "       [71, 40, 15, 95],\n",
              "       [70, 94,  1,  1]])"
            ]
          },
          "metadata": {},
          "execution_count": 58
        }
      ]
    },
    {
      "cell_type": "code",
      "source": [
        "arr4 = np.random.randint(100,200,24).reshape(6,4)\n",
        "arr4"
      ],
      "metadata": {
        "colab": {
          "base_uri": "https://localhost:8080/"
        },
        "id": "Qi_rJcQ8TCQh",
        "outputId": "05e187de-1bb8-4474-a9fe-64a18dd7898e"
      },
      "execution_count": 59,
      "outputs": [
        {
          "output_type": "execute_result",
          "data": {
            "text/plain": [
              "array([[191, 136, 137, 144],\n",
              "       [122, 174, 179, 154],\n",
              "       [114, 134, 113, 183],\n",
              "       [113, 197, 185, 104],\n",
              "       [160, 126, 190, 116],\n",
              "       [170, 148, 118, 189]])"
            ]
          },
          "metadata": {},
          "execution_count": 59
        }
      ]
    },
    {
      "cell_type": "code",
      "source": [
        "np.concatenate((arr3,arr4),axis=1)"
      ],
      "metadata": {
        "colab": {
          "base_uri": "https://localhost:8080/"
        },
        "id": "QpxjQ1cSTINQ",
        "outputId": "bcabfa57-6732-45ef-9fc0-78c836f15dbc"
      },
      "execution_count": 60,
      "outputs": [
        {
          "output_type": "execute_result",
          "data": {
            "text/plain": [
              "array([[ 34,  22,  34,  90, 191, 136, 137, 144],\n",
              "       [ 10,  99,  27,  60, 122, 174, 179, 154],\n",
              "       [ 58,  39,  89,  61, 114, 134, 113, 183],\n",
              "       [ 42,  14,  87,  45, 113, 197, 185, 104],\n",
              "       [ 71,  40,  15,  95, 160, 126, 190, 116],\n",
              "       [ 70,  94,   1,   1, 170, 148, 118, 189]])"
            ]
          },
          "metadata": {},
          "execution_count": 60
        }
      ]
    },
    {
      "cell_type": "code",
      "source": [
        "import random"
      ],
      "metadata": {
        "id": "hurlhu68T0GD"
      },
      "execution_count": 61,
      "outputs": []
    },
    {
      "cell_type": "code",
      "source": [
        "n=100\n",
        "lst = []\n",
        "for i in range(n):\n",
        "  random.choice([1,2,3])\n",
        "lst.append(random.choice[1,2,3])"
      ],
      "metadata": {
        "colab": {
          "base_uri": "https://localhost:8080/",
          "height": 176
        },
        "id": "xmfWLqmtTRlf",
        "outputId": "19051160-b068-468d-eb79-255ffe5bf93d"
      },
      "execution_count": 62,
      "outputs": [
        {
          "output_type": "error",
          "ename": "TypeError",
          "evalue": "'method' object is not subscriptable",
          "traceback": [
            "\u001b[0;31m---------------------------------------------------------------------------\u001b[0m",
            "\u001b[0;31mTypeError\u001b[0m                                 Traceback (most recent call last)",
            "\u001b[0;32m<ipython-input-62-b97e918838d1>\u001b[0m in \u001b[0;36m<cell line: 0>\u001b[0;34m()\u001b[0m\n\u001b[1;32m      3\u001b[0m \u001b[0;32mfor\u001b[0m \u001b[0mi\u001b[0m \u001b[0;32min\u001b[0m \u001b[0mrange\u001b[0m\u001b[0;34m(\u001b[0m\u001b[0mn\u001b[0m\u001b[0;34m)\u001b[0m\u001b[0;34m:\u001b[0m\u001b[0;34m\u001b[0m\u001b[0;34m\u001b[0m\u001b[0m\n\u001b[1;32m      4\u001b[0m   \u001b[0mrandom\u001b[0m\u001b[0;34m.\u001b[0m\u001b[0mchoice\u001b[0m\u001b[0;34m(\u001b[0m\u001b[0;34m[\u001b[0m\u001b[0;36m1\u001b[0m\u001b[0;34m,\u001b[0m\u001b[0;36m2\u001b[0m\u001b[0;34m,\u001b[0m\u001b[0;36m3\u001b[0m\u001b[0;34m]\u001b[0m\u001b[0;34m)\u001b[0m\u001b[0;34m\u001b[0m\u001b[0;34m\u001b[0m\u001b[0m\n\u001b[0;32m----> 5\u001b[0;31m \u001b[0mlst\u001b[0m\u001b[0;34m.\u001b[0m\u001b[0mappend\u001b[0m\u001b[0;34m(\u001b[0m\u001b[0mrandom\u001b[0m\u001b[0;34m.\u001b[0m\u001b[0mchoice\u001b[0m\u001b[0;34m[\u001b[0m\u001b[0;36m1\u001b[0m\u001b[0;34m,\u001b[0m\u001b[0;36m2\u001b[0m\u001b[0;34m,\u001b[0m\u001b[0;36m3\u001b[0m\u001b[0;34m]\u001b[0m\u001b[0;34m)\u001b[0m\u001b[0;34m\u001b[0m\u001b[0;34m\u001b[0m\u001b[0m\n\u001b[0m",
            "\u001b[0;31mTypeError\u001b[0m: 'method' object is not subscriptable"
          ]
        }
      ]
    },
    {
      "cell_type": "code",
      "source": [
        "#Unique\n",
        "\n",
        "arr5 = np.array(lst)"
      ],
      "metadata": {
        "id": "f3UFtuFeTSJw"
      },
      "execution_count": 37,
      "outputs": []
    },
    {
      "cell_type": "code",
      "source": [
        "len(np.unique(arr5))"
      ],
      "metadata": {
        "colab": {
          "base_uri": "https://localhost:8080/"
        },
        "id": "HtKBSB2RUABF",
        "outputId": "300f8aeb-935b-4991-88b1-b7464801a7a2"
      },
      "execution_count": 38,
      "outputs": [
        {
          "output_type": "execute_result",
          "data": {
            "text/plain": [
              "0"
            ]
          },
          "metadata": {},
          "execution_count": 38
        }
      ]
    },
    {
      "cell_type": "code",
      "source": [],
      "metadata": {
        "id": "_Cz711MYUFpz"
      },
      "execution_count": null,
      "outputs": []
    },
    {
      "cell_type": "code",
      "source": [
        "arr1"
      ],
      "metadata": {
        "colab": {
          "base_uri": "https://localhost:8080/"
        },
        "id": "NXxrnQR9UHIY",
        "outputId": "d7e4c973-76c2-4470-f390-f9b40475fb97"
      },
      "execution_count": 41,
      "outputs": [
        {
          "output_type": "execute_result",
          "data": {
            "text/plain": [
              "array([594, 378, 920, 114, 382, 962, 931, 552, 386, 293, 178, 363, 402,\n",
              "       869, 940])"
            ]
          },
          "metadata": {},
          "execution_count": 41
        }
      ]
    },
    {
      "cell_type": "code",
      "source": [
        "np.where(arr1<20)"
      ],
      "metadata": {
        "colab": {
          "base_uri": "https://localhost:8080/"
        },
        "id": "dekvj2dTUKHs",
        "outputId": "91d5a4f4-2f4b-41b5-8346-ceb8f36e8b4b"
      },
      "execution_count": 40,
      "outputs": [
        {
          "output_type": "execute_result",
          "data": {
            "text/plain": [
              "(array([], dtype=int64),)"
            ]
          },
          "metadata": {},
          "execution_count": 40
        }
      ]
    },
    {
      "cell_type": "code",
      "source": [
        "np.max(arr1)"
      ],
      "metadata": {
        "colab": {
          "base_uri": "https://localhost:8080/"
        },
        "id": "VHxcx4JLUuvE",
        "outputId": "7af6deae-95ee-4b38-b1e1-2d0e1ea23125"
      },
      "execution_count": 63,
      "outputs": [
        {
          "output_type": "execute_result",
          "data": {
            "text/plain": [
              "910"
            ]
          },
          "metadata": {},
          "execution_count": 63
        }
      ]
    },
    {
      "cell_type": "code",
      "source": [
        "np.argmax(arr1)"
      ],
      "metadata": {
        "colab": {
          "base_uri": "https://localhost:8080/"
        },
        "id": "FE6UZrveUyqj",
        "outputId": "a0484b58-951f-49c8-d970-f02f05864933"
      },
      "execution_count": 64,
      "outputs": [
        {
          "output_type": "execute_result",
          "data": {
            "text/plain": [
              "9"
            ]
          },
          "metadata": {},
          "execution_count": 64
        }
      ]
    },
    {
      "cell_type": "code",
      "source": [
        "np.append(arr1,1)\n"
      ],
      "metadata": {
        "colab": {
          "base_uri": "https://localhost:8080/"
        },
        "id": "hv8Z1OvzU4Gj",
        "outputId": "310fccb3-cb73-4100-874c-e6b066d90f89"
      },
      "execution_count": 69,
      "outputs": [
        {
          "output_type": "execute_result",
          "data": {
            "text/plain": [
              "array([138, 608,  20, 186, 262, 871, 525, 161, 372, 910, 275, 599, 450,\n",
              "       817,  17,   1])"
            ]
          },
          "metadata": {},
          "execution_count": 69
        }
      ]
    },
    {
      "cell_type": "code",
      "source": [
        "lst = [138, 608,  20, 186, 262, 871, 525, 161, 372, 910, 275, 599, 450,\n",
        "       817,  17,   1]\n",
        "       arr6 = np.array"
      ],
      "metadata": {
        "id": "GtGDiEXJVYED"
      },
      "execution_count": 70,
      "outputs": []
    },
    {
      "cell_type": "code",
      "source": [
        "arr2"
      ],
      "metadata": {
        "colab": {
          "base_uri": "https://localhost:8080/"
        },
        "id": "6sXa74bDWJfg",
        "outputId": "5e3e2c60-2ebb-4052-8831-76f6247da107"
      },
      "execution_count": 71,
      "outputs": [
        {
          "output_type": "execute_result",
          "data": {
            "text/plain": [
              "array([[80, 82, 15,  6, 79],\n",
              "       [81, 26, 90, 70, 49],\n",
              "       [ 4, 75, 94, 97, 50],\n",
              "       [18, 83, 53, 25, 53],\n",
              "       [85, 50, 50, 91, 95],\n",
              "       [53, 23, 57, 62,  5]])"
            ]
          },
          "metadata": {},
          "execution_count": 71
        }
      ]
    },
    {
      "cell_type": "code",
      "source": [
        "np.argmax(arr2)"
      ],
      "metadata": {
        "colab": {
          "base_uri": "https://localhost:8080/"
        },
        "id": "2IZ-QS5UWL6y",
        "outputId": "b7fead33-9f7c-4b17-c33f-e4c0f7984803"
      },
      "execution_count": 72,
      "outputs": [
        {
          "output_type": "execute_result",
          "data": {
            "text/plain": [
              "13"
            ]
          },
          "metadata": {},
          "execution_count": 72
        }
      ]
    },
    {
      "cell_type": "code",
      "source": [
        "np.max(arr2)"
      ],
      "metadata": {
        "colab": {
          "base_uri": "https://localhost:8080/"
        },
        "id": "m6nYxgidWQEN",
        "outputId": "18538b9d-2b35-4368-f6b8-926f87c46ade"
      },
      "execution_count": 73,
      "outputs": [
        {
          "output_type": "execute_result",
          "data": {
            "text/plain": [
              "97"
            ]
          },
          "metadata": {},
          "execution_count": 73
        }
      ]
    },
    {
      "cell_type": "code",
      "source": [
        "np.argmax(arr2,axis=1)"
      ],
      "metadata": {
        "colab": {
          "base_uri": "https://localhost:8080/"
        },
        "id": "7evm6_07WZQy",
        "outputId": "b199bb40-f3f6-4776-88af-16404f5799e1"
      },
      "execution_count": 74,
      "outputs": [
        {
          "output_type": "execute_result",
          "data": {
            "text/plain": [
              "array([1, 2, 3, 1, 4, 3])"
            ]
          },
          "metadata": {},
          "execution_count": 74
        }
      ]
    },
    {
      "cell_type": "code",
      "source": [
        "arr1"
      ],
      "metadata": {
        "colab": {
          "base_uri": "https://localhost:8080/"
        },
        "id": "_cc4ApjIWnsv",
        "outputId": "255b11b8-807d-4c5d-cc6d-8d5226cca5a5"
      },
      "execution_count": 75,
      "outputs": [
        {
          "output_type": "execute_result",
          "data": {
            "text/plain": [
              "array([138, 608,  20, 186, 262, 871, 525, 161, 372, 910, 275, 599, 450,\n",
              "       817,  17])"
            ]
          },
          "metadata": {},
          "execution_count": 75
        }
      ]
    },
    {
      "cell_type": "code",
      "source": [
        "np.cumsum(arr1)"
      ],
      "metadata": {
        "colab": {
          "base_uri": "https://localhost:8080/"
        },
        "id": "OKjBwiu4WrRH",
        "outputId": "d3f544ae-5f2f-483c-83cb-bb74eabe0616"
      },
      "execution_count": 76,
      "outputs": [
        {
          "output_type": "execute_result",
          "data": {
            "text/plain": [
              "array([ 138,  746,  766,  952, 1214, 2085, 2610, 2771, 3143, 4053, 4328,\n",
              "       4927, 5377, 6194, 6211])"
            ]
          },
          "metadata": {},
          "execution_count": 76
        }
      ]
    },
    {
      "cell_type": "code",
      "source": [
        "arr2"
      ],
      "metadata": {
        "colab": {
          "base_uri": "https://localhost:8080/"
        },
        "id": "oJX0StLGWul-",
        "outputId": "cd97678c-bfae-4879-8cdf-a001520f164a"
      },
      "execution_count": 77,
      "outputs": [
        {
          "output_type": "execute_result",
          "data": {
            "text/plain": [
              "array([[80, 82, 15,  6, 79],\n",
              "       [81, 26, 90, 70, 49],\n",
              "       [ 4, 75, 94, 97, 50],\n",
              "       [18, 83, 53, 25, 53],\n",
              "       [85, 50, 50, 91, 95],\n",
              "       [53, 23, 57, 62,  5]])"
            ]
          },
          "metadata": {},
          "execution_count": 77
        }
      ]
    },
    {
      "cell_type": "code",
      "source": [
        "np.cumsum(arr2,axis=1)"
      ],
      "metadata": {
        "colab": {
          "base_uri": "https://localhost:8080/"
        },
        "id": "nNWCsNm3Ww_-",
        "outputId": "0f9eab64-c014-42d2-c684-646b078e8528"
      },
      "execution_count": 78,
      "outputs": [
        {
          "output_type": "execute_result",
          "data": {
            "text/plain": [
              "array([[ 80, 162, 177, 183, 262],\n",
              "       [ 81, 107, 197, 267, 316],\n",
              "       [  4,  79, 173, 270, 320],\n",
              "       [ 18, 101, 154, 179, 232],\n",
              "       [ 85, 135, 185, 276, 371],\n",
              "       [ 53,  76, 133, 195, 200]])"
            ]
          },
          "metadata": {},
          "execution_count": 78
        }
      ]
    },
    {
      "cell_type": "code",
      "source": [
        "np.cumprod(arr1)"
      ],
      "metadata": {
        "colab": {
          "base_uri": "https://localhost:8080/"
        },
        "id": "w4y-9g6_W1PB",
        "outputId": "5470a9e1-6ac0-4c69-cfcf-9711d3ff7fd5"
      },
      "execution_count": 79,
      "outputs": [
        {
          "output_type": "execute_result",
          "data": {
            "text/plain": [
              "array([                 138,                83904,              1678080,\n",
              "                  312122880,          81776194560,       71227065461760,\n",
              "          37394209367424000,  6020467708155264000,  7557954514902462464,\n",
              "       -2896930932421910528, -3446011246514675712,  1874599593179029504,\n",
              "       -4980410460076097536,  7735094407639220224,  2369396413899882496])"
            ]
          },
          "metadata": {},
          "execution_count": 79
        }
      ]
    },
    {
      "cell_type": "code",
      "source": [
        "np.percentile(arr1,50)"
      ],
      "metadata": {
        "colab": {
          "base_uri": "https://localhost:8080/"
        },
        "id": "gGtFRLJqXFqo",
        "outputId": "5fdd60bf-9085-4e59-ee62-d4a58308e8a9"
      },
      "execution_count": 81,
      "outputs": [
        {
          "output_type": "execute_result",
          "data": {
            "text/plain": [
              "372.0"
            ]
          },
          "metadata": {},
          "execution_count": 81
        }
      ]
    },
    {
      "cell_type": "code",
      "source": [
        "np.percentile(arr1,75)"
      ],
      "metadata": {
        "colab": {
          "base_uri": "https://localhost:8080/"
        },
        "id": "vHS4gjDRXX8U",
        "outputId": "6d4a4a81-57ec-42ee-96e7-d57cee40730c"
      },
      "execution_count": 82,
      "outputs": [
        {
          "output_type": "execute_result",
          "data": {
            "text/plain": [
              "603.5"
            ]
          },
          "metadata": {},
          "execution_count": 82
        }
      ]
    },
    {
      "cell_type": "code",
      "source": [
        "len(arr1)"
      ],
      "metadata": {
        "colab": {
          "base_uri": "https://localhost:8080/"
        },
        "id": "qzqbZTsfYkHv",
        "outputId": "a5a37a95-a279-436b-f3f1-b5615df65e3b"
      },
      "execution_count": 86,
      "outputs": [
        {
          "output_type": "execute_result",
          "data": {
            "text/plain": [
              "15"
            ]
          },
          "metadata": {},
          "execution_count": 86
        }
      ]
    },
    {
      "cell_type": "code",
      "source": [
        "sum(np.where(arr1<75,True,False))"
      ],
      "metadata": {
        "colab": {
          "base_uri": "https://localhost:8080/"
        },
        "id": "id6z9jO-YJ57",
        "outputId": "fa3282dc-23e8-4480-c534-83440b45f957"
      },
      "execution_count": 88,
      "outputs": [
        {
          "output_type": "execute_result",
          "data": {
            "text/plain": [
              "2"
            ]
          },
          "metadata": {},
          "execution_count": 88
        }
      ]
    },
    {
      "cell_type": "code",
      "source": [
        "4/15"
      ],
      "metadata": {
        "colab": {
          "base_uri": "https://localhost:8080/"
        },
        "id": "B-dGeS41YxR-",
        "outputId": "660a5573-0373-45da-9627-cdb2a5a863e9"
      },
      "execution_count": 89,
      "outputs": [
        {
          "output_type": "execute_result",
          "data": {
            "text/plain": [
              "0.26666666666666666"
            ]
          },
          "metadata": {},
          "execution_count": 89
        }
      ]
    },
    {
      "cell_type": "code",
      "source": [
        "lst = [1,2,10,-100]\n",
        "arr = np.array(lst)\n",
        "arr"
      ],
      "metadata": {
        "colab": {
          "base_uri": "https://localhost:8080/"
        },
        "id": "yFwBtO_SZsHU",
        "outputId": "cc1b8bcc-bbf2-4faf-e085-f66592b59270"
      },
      "execution_count": 91,
      "outputs": [
        {
          "output_type": "execute_result",
          "data": {
            "text/plain": [
              "array([   1,    2,   10, -100])"
            ]
          },
          "metadata": {},
          "execution_count": 91
        }
      ]
    },
    {
      "cell_type": "code",
      "source": [
        "np.all(arr)"
      ],
      "metadata": {
        "colab": {
          "base_uri": "https://localhost:8080/"
        },
        "id": "-swL9wyLaRrQ",
        "outputId": "875eea25-e700-4064-ef76-8a42c6ad75e9"
      },
      "execution_count": 92,
      "outputs": [
        {
          "output_type": "execute_result",
          "data": {
            "text/plain": [
              "True"
            ]
          },
          "metadata": {},
          "execution_count": 92
        }
      ]
    },
    {
      "cell_type": "code",
      "source": [
        "np.isin(arr,1)"
      ],
      "metadata": {
        "colab": {
          "base_uri": "https://localhost:8080/"
        },
        "id": "GImz2vb4bOYv",
        "outputId": "86293a10-d601-4275-b8e8-fbea48993a93"
      },
      "execution_count": 94,
      "outputs": [
        {
          "output_type": "execute_result",
          "data": {
            "text/plain": [
              "array([ True, False, False, False])"
            ]
          },
          "metadata": {},
          "execution_count": 94
        }
      ]
    },
    {
      "cell_type": "code",
      "source": [],
      "metadata": {
        "id": "V-sPoizhbSd1"
      },
      "execution_count": null,
      "outputs": []
    },
    {
      "cell_type": "code",
      "source": [
        "import matplotlib.pyplot as plt\n",
        "from PIL import Image"
      ],
      "metadata": {
        "id": "XldKuqtIbTT0"
      },
      "execution_count": 99,
      "outputs": []
    },
    {
      "cell_type": "code",
      "source": [],
      "metadata": {
        "id": "82DSM3Dib0gt"
      },
      "execution_count": null,
      "outputs": []
    }
  ]
}