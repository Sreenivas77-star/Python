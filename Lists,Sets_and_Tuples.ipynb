{
  "nbformat": 4,
  "nbformat_minor": 0,
  "metadata": {
    "colab": {
      "provenance": [],
      "authorship_tag": "ABX9TyMfF5CORCBaSQAGG7rHnL46",
      "include_colab_link": true
    },
    "kernelspec": {
      "name": "python3",
      "display_name": "Python 3"
    },
    "language_info": {
      "name": "python"
    }
  },
  "cells": [
    {
      "cell_type": "markdown",
      "metadata": {
        "id": "view-in-github",
        "colab_type": "text"
      },
      "source": [
        "<a href=\"https://colab.research.google.com/github/Sreenivas77-star/Python/blob/main/Lists%2CSets_and_Tuples.ipynb\" target=\"_parent\"><img src=\"https://colab.research.google.com/assets/colab-badge.svg\" alt=\"Open In Colab\"/></a>"
      ]
    },
    {
      "cell_type": "markdown",
      "source": [
        "#Lists\n",
        "\n",
        "lists are Mutable and Collection of order of items"
      ],
      "metadata": {
        "id": "8evdoV_90__S"
      }
    },
    {
      "cell_type": "code",
      "execution_count": 6,
      "metadata": {
        "colab": {
          "base_uri": "https://localhost:8080/"
        },
        "id": "dMue-T6OukBa",
        "outputId": "45eb6f83-1b5f-4e3e-f2c3-d188f2b1bd31"
      },
      "outputs": [
        {
          "output_type": "stream",
          "name": "stdout",
          "text": [
            "20\n"
          ]
        }
      ],
      "source": [
        "lst = [1,3,4,5,7]\n",
        "lst = sum(lst)\n",
        "print(lst)"
      ]
    },
    {
      "cell_type": "code",
      "source": [
        "lst = [1,3,4,5,7]\n",
        "print(sum(lst))\n",
        "print(max(lst))\n",
        "print(min(lst))"
      ],
      "metadata": {
        "colab": {
          "base_uri": "https://localhost:8080/"
        },
        "id": "aZxFZElVvqu2",
        "outputId": "70a3fbdd-23c5-4c8d-c070-b5b8fb69ae3e"
      },
      "execution_count": 7,
      "outputs": [
        {
          "output_type": "stream",
          "name": "stdout",
          "text": [
            "20\n",
            "7\n",
            "1\n"
          ]
        }
      ]
    },
    {
      "cell_type": "code",
      "source": [
        "# to get an Average\n",
        "\n",
        "avg = sum(lst)/len(lst)\n",
        "print(avg)\n",
        "\n",
        "# if we want to change it to int, we can typecast it to int\n",
        "print(int(avg))"
      ],
      "metadata": {
        "colab": {
          "base_uri": "https://localhost:8080/"
        },
        "id": "EgnA2XAVwAu4",
        "outputId": "4a1d340a-f18d-48f5-a50f-bb16d67cc72d"
      },
      "execution_count": 12,
      "outputs": [
        {
          "output_type": "stream",
          "name": "stdout",
          "text": [
            "4.0\n",
            "4\n"
          ]
        }
      ]
    },
    {
      "cell_type": "code",
      "source": [
        "#Range, enumerate\n",
        "\n",
        "print(range(5))"
      ],
      "metadata": {
        "colab": {
          "base_uri": "https://localhost:8080/"
        },
        "id": "pSqIo6JaxFHL",
        "outputId": "9603b0c4-c723-4dbc-e28e-94618d4073d4"
      },
      "execution_count": 13,
      "outputs": [
        {
          "output_type": "stream",
          "name": "stdout",
          "text": [
            "range(0, 5)\n"
          ]
        }
      ]
    },
    {
      "cell_type": "code",
      "source": [
        "#range(start,end,step)- range starts from start and till end but not including end with step of value step\n",
        "\n",
        "for num in range(1,10):\n",
        "    print(num)"
      ],
      "metadata": {
        "colab": {
          "base_uri": "https://localhost:8080/"
        },
        "id": "N7_DlYwfxsbj",
        "outputId": "31a3acb5-ee2d-450e-ca40-700c4568a00e"
      },
      "execution_count": 15,
      "outputs": [
        {
          "output_type": "stream",
          "name": "stdout",
          "text": [
            "1\n",
            "2\n",
            "3\n",
            "4\n",
            "5\n",
            "6\n",
            "7\n",
            "8\n",
            "9\n"
          ]
        }
      ]
    },
    {
      "cell_type": "code",
      "source": [
        "for num in range(1,15,3):\n",
        "  print(num)"
      ],
      "metadata": {
        "colab": {
          "base_uri": "https://localhost:8080/"
        },
        "id": "jeK-iTnIyERd",
        "outputId": "b4545207-92de-4601-c769-575e9ecebe9b"
      },
      "execution_count": 18,
      "outputs": [
        {
          "output_type": "stream",
          "name": "stdout",
          "text": [
            "1\n",
            "4\n",
            "7\n",
            "10\n",
            "13\n"
          ]
        }
      ]
    },
    {
      "cell_type": "code",
      "source": [
        "lst = [1,3,4,5,7]\n",
        "for num in enumerate(lst):\n",
        "    print(num)"
      ],
      "metadata": {
        "colab": {
          "base_uri": "https://localhost:8080/"
        },
        "id": "Mcf_WObCyXLz",
        "outputId": "3656974b-cdc2-47b9-9cea-7f2c978730e8"
      },
      "execution_count": 19,
      "outputs": [
        {
          "output_type": "stream",
          "name": "stdout",
          "text": [
            "(0, 1)\n",
            "(1, 3)\n",
            "(2, 4)\n",
            "(3, 5)\n",
            "(4, 7)\n"
          ]
        }
      ]
    },
    {
      "cell_type": "code",
      "source": [
        "lst = [1,3,4,5,7]\n",
        "for index,value in enumerate(lst):\n",
        "    print(index,value)"
      ],
      "metadata": {
        "colab": {
          "base_uri": "https://localhost:8080/"
        },
        "id": "BcrNbDsHyokG",
        "outputId": "a4170635-9a88-4305-ca72-8672d8d08996"
      },
      "execution_count": 20,
      "outputs": [
        {
          "output_type": "stream",
          "name": "stdout",
          "text": [
            "0 1\n",
            "1 3\n",
            "2 4\n",
            "3 5\n",
            "4 7\n"
          ]
        }
      ]
    },
    {
      "cell_type": "code",
      "source": [
        "lst = [10,20,30,43,40,50,60,70,39]\n",
        "\n",
        "index_lst = []\n",
        "for item in lst:\n",
        "  if item % 2 == 0:\n",
        "    idx = lst.index(item)\n",
        "    index_lst.append(idx)\n",
        "print(index_lst)\n",
        ""
      ],
      "metadata": {
        "colab": {
          "base_uri": "https://localhost:8080/"
        },
        "id": "tcyMaSypzIcu",
        "outputId": "9b4ad7b2-d405-43d5-942f-548136f8cb08"
      },
      "execution_count": 26,
      "outputs": [
        {
          "output_type": "stream",
          "name": "stdout",
          "text": [
            "[0, 1, 2, 4, 5, 6, 7]\n"
          ]
        }
      ]
    },
    {
      "cell_type": "markdown",
      "source": [
        "##Tuples\n",
        "\n",
        "tuples are immutable orderd collection of items"
      ],
      "metadata": {
        "id": "N9LpdDKs00AI"
      }
    },
    {
      "cell_type": "code",
      "source": [
        "list1 = [1,2,3,4,5,6,7,8]\n",
        "tuple1 = [1,2,3,4,5,6,7,8]\n",
        "tuple1\n",
        "list1"
      ],
      "metadata": {
        "colab": {
          "base_uri": "https://localhost:8080/"
        },
        "id": "HpF0oacP0txR",
        "outputId": "ed1185a8-b7b9-482e-ecd9-c2b2f8902b9e"
      },
      "execution_count": 28,
      "outputs": [
        {
          "output_type": "execute_result",
          "data": {
            "text/plain": [
              "[1, 2, 3, 4, 5, 6, 7, 8]"
            ]
          },
          "metadata": {},
          "execution_count": 28
        }
      ]
    },
    {
      "cell_type": "code",
      "source": [
        "lst[0] = 10\n",
        "print(lst)"
      ],
      "metadata": {
        "colab": {
          "base_uri": "https://localhost:8080/"
        },
        "id": "CZMlBvU51t8H",
        "outputId": "c74c0f78-8b65-4382-e9ab-76e4571cf6de"
      },
      "execution_count": 30,
      "outputs": [
        {
          "output_type": "stream",
          "name": "stdout",
          "text": [
            "[10, 20, 30, 43, 40, 50, 60, 70, 39]\n"
          ]
        }
      ]
    },
    {
      "cell_type": "code",
      "source": [
        "tuple1 = (1,2,3,4,5,6,7,8)\n",
        "tuple2 = (1,2,3,4,5,6,7,8)\n",
        "tuple3 = tuple1 + tuple2\n",
        "print(tuple3)"
      ],
      "metadata": {
        "colab": {
          "base_uri": "https://localhost:8080/"
        },
        "id": "UsiG_ZdN2qQ8",
        "outputId": "1e4a54d3-e9ad-42ac-f7ff-fc029793ba70"
      },
      "execution_count": 32,
      "outputs": [
        {
          "output_type": "stream",
          "name": "stdout",
          "text": [
            "(1, 2, 3, 4, 5, 6, 7, 8, 1, 2, 3, 4, 5, 6, 7, 8)\n"
          ]
        }
      ]
    },
    {
      "cell_type": "markdown",
      "source": [
        "##Sets\n",
        "\n",
        "Sets are mutable unordered collection of items\n"
      ],
      "metadata": {
        "id": "C4y2CaQS3Oom"
      }
    },
    {
      "cell_type": "code",
      "source": [
        "set1 = {1,2,3,4,5,76,7,8}\n",
        "set2 = {1,2,3,4,5,6,9,8}\n",
        "set3 = set1.union(set2)\n",
        "print(set3)"
      ],
      "metadata": {
        "colab": {
          "base_uri": "https://localhost:8080/"
        },
        "id": "kzSYt54a3Yuv",
        "outputId": "08b6ca93-70a5-4084-db83-fce99529c58b"
      },
      "execution_count": 35,
      "outputs": [
        {
          "output_type": "stream",
          "name": "stdout",
          "text": [
            "{1, 2, 3, 4, 5, 6, 7, 8, 9, 76}\n"
          ]
        }
      ]
    },
    {
      "cell_type": "code",
      "source": [
        "set1 = {1,2,4}\n",
        "set2 = {1,7,9}\n",
        "union_set =set1 | set2\n",
        "print(\"union of set1 and set2 is \",union_set)"
      ],
      "metadata": {
        "colab": {
          "base_uri": "https://localhost:8080/"
        },
        "id": "nlpFmElD4WTG",
        "outputId": "dfa6015c-b2bb-44b5-afda-01c4ebcab597"
      },
      "execution_count": 37,
      "outputs": [
        {
          "output_type": "stream",
          "name": "stdout",
          "text": [
            "union of set1 and set2 is  {1, 2, 4, 7, 9}\n"
          ]
        }
      ]
    },
    {
      "cell_type": "code",
      "source": [
        "diff_set = set1 - set2\n",
        "print(\"difference of set1 and set2 is \",diff_set)"
      ],
      "metadata": {
        "colab": {
          "base_uri": "https://localhost:8080/"
        },
        "id": "XTQid9NP4_Hp",
        "outputId": "4d7c0221-659f-4e88-d8e1-c50bb97dd8d4"
      },
      "execution_count": 38,
      "outputs": [
        {
          "output_type": "stream",
          "name": "stdout",
          "text": [
            "difference of set1 and set2 is  {2, 4}\n"
          ]
        }
      ]
    },
    {
      "cell_type": "code",
      "source": [
        "intersection_set = set1 & set2\n",
        "print(\"intersection of set1 and set2 is \",intersection_set)"
      ],
      "metadata": {
        "colab": {
          "base_uri": "https://localhost:8080/"
        },
        "id": "706Q2wUU5Frp",
        "outputId": "96d52f9f-6b36-48ee-b8c7-79b782290080"
      },
      "execution_count": 39,
      "outputs": [
        {
          "output_type": "stream",
          "name": "stdout",
          "text": [
            "intersection of set1 and set2 is  {1}\n"
          ]
        }
      ]
    },
    {
      "cell_type": "code",
      "source": [
        "text = '''The Taj Mahal is an ivory-white marble mausoleum on the right bank of the river Yamuna in Agra, Uttar Pradesh, India. It was commissioned in 1631 by the fifth Mughal emperor, Shah Jahan to house the tomb of his beloved wife, Mumtaz Mahal; it also houses the tomb of Shah Jahan himself.'''"
      ],
      "metadata": {
        "id": "a6k2r6RI5_lL"
      },
      "execution_count": 40,
      "outputs": []
    },
    {
      "cell_type": "code",
      "source": [
        "lst=text.split(\"\\n\")\n",
        "lst"
      ],
      "metadata": {
        "colab": {
          "base_uri": "https://localhost:8080/"
        },
        "id": "-W26Y3S76K4m",
        "outputId": "bca5a551-0a2f-40e3-e6cf-864242c2be3f"
      },
      "execution_count": 45,
      "outputs": [
        {
          "output_type": "execute_result",
          "data": {
            "text/plain": [
              "['The Taj Mahal is an ivory-white marble mausoleum on the right bank of the river Yamuna in Agra, Uttar Pradesh, India. It was commissioned in 1631 by the fifth Mughal emperor, Shah Jahan to house the tomb of his beloved wife, Mumtaz Mahal; it also houses the tomb of Shah Jahan himself.']"
            ]
          },
          "metadata": {},
          "execution_count": 45
        }
      ]
    }
  ]
}