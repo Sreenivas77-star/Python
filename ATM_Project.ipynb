{
  "nbformat": 4,
  "nbformat_minor": 0,
  "metadata": {
    "colab": {
      "provenance": [],
      "authorship_tag": "ABX9TyP1hT2GQZvZJZloIc+6Wy9z",
      "include_colab_link": true
    },
    "kernelspec": {
      "name": "python3",
      "display_name": "Python 3"
    },
    "language_info": {
      "name": "python"
    }
  },
  "cells": [
    {
      "cell_type": "markdown",
      "metadata": {
        "id": "view-in-github",
        "colab_type": "text"
      },
      "source": [
        "<a href=\"https://colab.research.google.com/github/Sreenivas77-star/Python/blob/main/ATM_Project.ipynb\" target=\"_parent\"><img src=\"https://colab.research.google.com/assets/colab-badge.svg\" alt=\"Open In Colab\"/></a>"
      ]
    },
    {
      "cell_type": "code",
      "execution_count": 7,
      "metadata": {
        "id": "ipOJ0loMMx_H",
        "colab": {
          "base_uri": "https://localhost:8080/"
        },
        "outputId": "a478a6f0-4e17-4f2a-99f5-6e6b378df8d2"
      },
      "outputs": [
        {
          "name": "stdout",
          "output_type": "stream",
          "text": [
            "Enter the User Name: srinivas\n",
            "Enter the Password: 321\n",
            "\n",
            "\n",
            " 1.credit\n",
            " 2.debit\n",
            " 3.mini statement\n",
            " 4.exit\n",
            "\n",
            "\n",
            "\n",
            "\n",
            " 1.credit\n",
            " 2.debit\n",
            " 3.mini statement\n",
            " 4.exit\n",
            "\n",
            "\n",
            "enter the option2\n",
            "Enter the amount4000\n",
            "Amont after debit: 6000.0\n",
            "\n",
            "\n",
            " 1.credit\n",
            " 2.debit\n",
            " 3.mini statement\n",
            " 4.exit\n",
            "\n",
            "\n",
            "enter the option3\n",
            "Amount 10000\n",
            "\n",
            "\n",
            " 1.credit\n",
            " 2.debit\n",
            " 3.mini statement\n",
            " 4.exit\n",
            "\n",
            "\n",
            "enter the option4\n"
          ]
        }
      ],
      "source": [
        "name = \"srinivas\"\n",
        "password = \"321\"\n",
        "user_name = input(\"Enter the User Name: \") # Added input function\n",
        "passwords = input(\"Enter the Password: \") # Added input function\n",
        "\n",
        "s='''\n",
        "\n",
        " 1.credit\n",
        " 2.debit\n",
        " 3.mini statement\n",
        " 4.exit\n",
        "\n",
        "'''\n",
        "Amount=10000\n",
        "if name==user_name and passwords==password:\n",
        "  print(s)\n",
        "  while True:\n",
        "    print(s)\n",
        "    option=int(input(\"enter the option\"))\n",
        "    if option==1:\n",
        "      credit_amount=float(input(\"Enter the amount\"))\n",
        "      print(\"Amount after credit:\",Amount+credit_amount)\n",
        "    elif option==2:\n",
        "      debit_amount=float(input(\"Enter the amount\"))\n",
        "      print(\"Amont after debit:\",Amount-debit_amount)\n",
        "    elif option==3:\n",
        "      print(\"Amount\", Amount)\n",
        "    elif option==4: # Added condition for exit\n",
        "      break # Added break statement to exit the loop\n",
        "  else: # This else block will never be reached due to the while True loop\n",
        "    print(\"incorrect\")\n",
        "else: # Added else block for incorrect credentials\n",
        "  print(\"incorrect\")"
      ]
    }
  ]
}