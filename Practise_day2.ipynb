{
  "nbformat": 4,
  "nbformat_minor": 0,
  "metadata": {
    "colab": {
      "provenance": [],
      "authorship_tag": "ABX9TyMj/x13agUXpo/yB5lqqas7",
      "include_colab_link": true
    },
    "kernelspec": {
      "name": "python3",
      "display_name": "Python 3"
    },
    "language_info": {
      "name": "python"
    }
  },
  "cells": [
    {
      "cell_type": "markdown",
      "metadata": {
        "id": "view-in-github",
        "colab_type": "text"
      },
      "source": [
        "<a href=\"https://colab.research.google.com/github/Sreenivas77-star/Python/blob/main/Practise_day2.ipynb\" target=\"_parent\"><img src=\"https://colab.research.google.com/assets/colab-badge.svg\" alt=\"Open In Colab\"/></a>"
      ]
    },
    {
      "cell_type": "code",
      "execution_count": 2,
      "metadata": {
        "colab": {
          "base_uri": "https://localhost:8080/"
        },
        "id": "EMQlfe5Bkpc0",
        "outputId": "7a44733a-d26c-44c8-e248-e3130cd5f2cd"
      },
      "outputs": [
        {
          "output_type": "stream",
          "name": "stdout",
          "text": [
            "1,2,3,4.....50\n"
          ]
        }
      ],
      "source": [
        "num = (\"1,2,3,4.....50\")\n",
        "print(num)"
      ]
    },
    {
      "cell_type": "code",
      "source": [
        "for i in range(1,51):\n",
        "  if i % 3 == 0: and i % 5 == 0:\n",
        "    print(\"FizzBuzz\")\n",
        "  elif i % 3 == 0:\n",
        "    print(\"Fizz\")\n",
        "  elif i % 5 == 0:\n",
        "    print (\"Buzz\")\n",
        "  else:\n",
        "    print(i)"
      ],
      "metadata": {
        "colab": {
          "base_uri": "https://localhost:8080/",
          "height": 106
        },
        "id": "5__s3xltleLV",
        "outputId": "baa8fc76-c322-4e89-8ae1-ce8db730b8e5"
      },
      "execution_count": 12,
      "outputs": [
        {
          "output_type": "error",
          "ename": "SyntaxError",
          "evalue": "invalid syntax (<ipython-input-12-fa1542d7e09b>, line 2)",
          "traceback": [
            "\u001b[0;36m  File \u001b[0;32m\"<ipython-input-12-fa1542d7e09b>\"\u001b[0;36m, line \u001b[0;32m2\u001b[0m\n\u001b[0;31m    if i % 3 == 0: and i % 5 == 0:\u001b[0m\n\u001b[0m                   ^\u001b[0m\n\u001b[0;31mSyntaxError\u001b[0m\u001b[0;31m:\u001b[0m invalid syntax\n"
          ]
        }
      ]
    },
    {
      "cell_type": "code",
      "source": [
        "for i in range(1,51):\n",
        "  if i % 3 ==0:\n",
        "    print(\"Fizz\")\n",
        "  elif i % 5 == 0:\n",
        "    print(\"Buzz\")\n",
        "  elif i %3 == 0 and i % 5 == 0:\n",
        "    print(\"FizzBuzz\")\n",
        "  else:\n",
        "    print(i)"
      ],
      "metadata": {
        "colab": {
          "base_uri": "https://localhost:8080/"
        },
        "id": "qzvNTR0LpPc1",
        "outputId": "cc1d7140-7f46-4836-c437-d4fbbbf846fb"
      },
      "execution_count": 13,
      "outputs": [
        {
          "output_type": "stream",
          "name": "stdout",
          "text": [
            "1\n",
            "2\n",
            "Fizz\n",
            "4\n",
            "Buzz\n",
            "Fizz\n",
            "7\n",
            "8\n",
            "Fizz\n",
            "Buzz\n",
            "11\n",
            "Fizz\n",
            "13\n",
            "14\n",
            "Fizz\n",
            "16\n",
            "17\n",
            "Fizz\n",
            "19\n",
            "Buzz\n",
            "Fizz\n",
            "22\n",
            "23\n",
            "Fizz\n",
            "Buzz\n",
            "26\n",
            "Fizz\n",
            "28\n",
            "29\n",
            "Fizz\n",
            "31\n",
            "32\n",
            "Fizz\n",
            "34\n",
            "Buzz\n",
            "Fizz\n",
            "37\n",
            "38\n",
            "Fizz\n",
            "Buzz\n",
            "41\n",
            "Fizz\n",
            "43\n",
            "44\n",
            "Fizz\n",
            "46\n",
            "47\n",
            "Fizz\n",
            "49\n",
            "Buzz\n"
          ]
        }
      ]
    },
    {
      "cell_type": "code",
      "source": [
        "matrix = [[1,2,3],[4,5,6],[7,8,9]]\n",
        "print(matrix[0][0]+matrix[1][1]+matrix[2][2])\n",
        "\n",
        ""
      ],
      "metadata": {
        "colab": {
          "base_uri": "https://localhost:8080/"
        },
        "id": "CEYpYEpyqp3z",
        "outputId": "e0fb2184-35ae-4e11-db20-51d1b9f82a1f"
      },
      "execution_count": 29,
      "outputs": [
        {
          "output_type": "stream",
          "name": "stdout",
          "text": [
            "15\n"
          ]
        }
      ]
    },
    {
      "cell_type": "code",
      "source": [
        "second_largest = ([3,4,2,5,7,8,3,9])\n",
        "for item in second_largest:\n",
        "  if item == max(second_largest):\n",
        "    second_largest.remove(item)\n",
        "print(max(second_largest))"
      ],
      "metadata": {
        "colab": {
          "base_uri": "https://localhost:8080/"
        },
        "id": "BANpdFpbxVF7",
        "outputId": "3d691244-7d63-45ea-fba5-cee129e55e9d"
      },
      "execution_count": 64,
      "outputs": [
        {
          "output_type": "stream",
          "name": "stdout",
          "text": [
            "8\n"
          ]
        }
      ]
    },
    {
      "cell_type": "code",
      "source": [
        "tuple = (1,[2,3,[4]],5)\n",
        "flatten_list = tuple[0],tuple[1][0],tuple[1][1],tuple[1][2],tuple[2]\n",
        "print(flatten_list)\n"
      ],
      "metadata": {
        "colab": {
          "base_uri": "https://localhost:8080/"
        },
        "id": "RDFr87gFy2GH",
        "outputId": "328a4efd-478f-454c-dce7-69a96c06af6f"
      },
      "execution_count": 67,
      "outputs": [
        {
          "output_type": "stream",
          "name": "stdout",
          "text": [
            "(1, 2, 3, [4], 5)\n"
          ]
        }
      ]
    },
    {
      "cell_type": "code",
      "source": [
        "string =\"Hello world. Hello Sam\"\n",
        "word = string.count(\"Hello\")\n",
        "print(word)"
      ],
      "metadata": {
        "colab": {
          "base_uri": "https://localhost:8080/"
        },
        "id": "Loz7Ybu5ASH7",
        "outputId": "7f318436-e548-4966-9837-4b66c3bdaea0"
      },
      "execution_count": 85,
      "outputs": [
        {
          "output_type": "stream",
          "name": "stdout",
          "text": [
            "2\n"
          ]
        }
      ]
    }
  ]
}