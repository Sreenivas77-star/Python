{
  "nbformat": 4,
  "nbformat_minor": 0,
  "metadata": {
    "colab": {
      "provenance": [],
      "authorship_tag": "ABX9TyPdNJ916bAhtklGEQafA2fq",
      "include_colab_link": true
    },
    "kernelspec": {
      "name": "python3",
      "display_name": "Python 3"
    },
    "language_info": {
      "name": "python"
    }
  },
  "cells": [
    {
      "cell_type": "markdown",
      "metadata": {
        "id": "view-in-github",
        "colab_type": "text"
      },
      "source": [
        "<a href=\"https://colab.research.google.com/github/Sreenivas77-star/Python/blob/main/Print%2CBasic_Operations%2CData%20Types-Lists.ipynb\" target=\"_parent\"><img src=\"https://colab.research.google.com/assets/colab-badge.svg\" alt=\"Open In Colab\"/></a>"
      ]
    },
    {
      "cell_type": "markdown",
      "source": [],
      "metadata": {
        "id": "5S9FREubSpMX"
      }
    },
    {
      "cell_type": "markdown",
      "source": [],
      "metadata": {
        "id": "0oyjR3jGNEUB"
      }
    },
    {
      "cell_type": "code",
      "execution_count": null,
      "metadata": {
        "colab": {
          "base_uri": "https://localhost:8080/"
        },
        "id": "d1QV-lZuSMcO",
        "outputId": "325edae5-b87c-4672-981d-962ce775c0b1"
      },
      "outputs": [
        {
          "output_type": "stream",
          "name": "stdout",
          "text": [
            "I Love Python\n"
          ]
        }
      ],
      "source": [
        "print(\"I Love Python\")"
      ]
    },
    {
      "cell_type": "code",
      "source": [
        "month =2"
      ],
      "metadata": {
        "id": "k46v8xylUbcv"
      },
      "execution_count": null,
      "outputs": []
    },
    {
      "cell_type": "markdown",
      "source": [
        "## Data Types"
      ],
      "metadata": {
        "id": "WGKaiW9fUp7n"
      }
    },
    {
      "cell_type": "code",
      "source": [
        "age = 20  #int\n",
        "name = \"Alice\" # String\n",
        "price = 10.8  #float\n",
        "user_exists = True #boolean"
      ],
      "metadata": {
        "id": "7U5_uHX8Ut8H"
      },
      "execution_count": null,
      "outputs": []
    },
    {
      "cell_type": "code",
      "source": [
        "type(user_exists)"
      ],
      "metadata": {
        "colab": {
          "base_uri": "https://localhost:8080/"
        },
        "id": "I1jbBXdkVAMN",
        "outputId": "63a57c62-682f-4a27-90d2-65b2fa89c06c"
      },
      "execution_count": null,
      "outputs": [
        {
          "output_type": "execute_result",
          "data": {
            "text/plain": [
              "bool"
            ]
          },
          "metadata": {},
          "execution_count": 9
        }
      ]
    },
    {
      "cell_type": "code",
      "source": [
        "a = 0.11\n",
        "b = 0.2\n",
        "\n",
        "print(a+b)"
      ],
      "metadata": {
        "colab": {
          "base_uri": "https://localhost:8080/"
        },
        "id": "dRfNlt92Vm3Z",
        "outputId": "dfc441e8-461e-4b7c-d5d5-cf83260de960"
      },
      "execution_count": null,
      "outputs": [
        {
          "output_type": "stream",
          "name": "stdout",
          "text": [
            "0.31\n"
          ]
        }
      ]
    },
    {
      "cell_type": "markdown",
      "source": [],
      "metadata": {
        "id": "K8Y-vmG4kQsU"
      }
    },
    {
      "cell_type": "markdown",
      "source": [
        "###Comparision Operator\n",
        "\n",
        "### == ---> equality\n",
        "### !=--->for Non Equality\n",
        "### < -->less than and  <=for less than equal to\n",
        "### > ---> Greater than and >= for Greater than EquaL to"
      ],
      "metadata": {
        "id": "Epa3rJvvV8oS"
      }
    },
    {
      "cell_type": "code",
      "source": [
        "x = 10\n",
        "y = 11"
      ],
      "metadata": {
        "id": "LC9P9FjCXCzE"
      },
      "execution_count": null,
      "outputs": []
    },
    {
      "cell_type": "code",
      "source": [
        "print (x == y)\n",
        "print (x != y)\n",
        "print (x <= y)\n",
        "print (x >=y)"
      ],
      "metadata": {
        "colab": {
          "base_uri": "https://localhost:8080/"
        },
        "id": "ghKmy4X4XcIm",
        "outputId": "270be689-0443-44cc-b271-c9475fc0e552"
      },
      "execution_count": null,
      "outputs": [
        {
          "output_type": "stream",
          "name": "stdout",
          "text": [
            "False\n",
            "True\n",
            "True\n",
            "False\n"
          ]
        }
      ]
    },
    {
      "cell_type": "markdown",
      "source": [
        "##If Conditionals"
      ],
      "metadata": {
        "id": "Hhmp86C2YU3-"
      }
    },
    {
      "cell_type": "code",
      "source": [
        "x = 10"
      ],
      "metadata": {
        "id": "QTd-pbQiYirF"
      },
      "execution_count": null,
      "outputs": []
    },
    {
      "cell_type": "code",
      "source": [
        "x==2"
      ],
      "metadata": {
        "colab": {
          "base_uri": "https://localhost:8080/"
        },
        "id": "odMduTI8Yqjj",
        "outputId": "f7c0a6ba-2f87-43bb-ade1-8bef46cd721e"
      },
      "execution_count": null,
      "outputs": [
        {
          "output_type": "execute_result",
          "data": {
            "text/plain": [
              "False"
            ]
          },
          "metadata": {},
          "execution_count": 18
        }
      ]
    },
    {
      "cell_type": "code",
      "source": [
        "x = 2\n",
        "\n",
        "if x ==2:\n",
        "  print(\"x is 2\")\n",
        "else:\n",
        "  print(\"x is not 2\")"
      ],
      "metadata": {
        "colab": {
          "base_uri": "https://localhost:8080/"
        },
        "id": "kHuzjAttYx_L",
        "outputId": "2755a547-5fa7-4af3-fb00-1224bd2598f7"
      },
      "execution_count": null,
      "outputs": [
        {
          "output_type": "stream",
          "name": "stdout",
          "text": [
            "x is 2\n"
          ]
        }
      ]
    },
    {
      "cell_type": "code",
      "source": [
        "x = 3\n",
        "\n",
        "if x < 2:\n",
        "  print(\"x is less than 2\")\n",
        "elif x >=2 and x <=10:\n",
        "  print(\"x is in Between of 2 and 10\")\n",
        "else:\n",
        "  print(\"x is Greater than 2\")"
      ],
      "metadata": {
        "colab": {
          "base_uri": "https://localhost:8080/"
        },
        "id": "Lw4lCp5FaDjg",
        "outputId": "234898b0-00cb-4861-d267-c87f6906a714"
      },
      "execution_count": null,
      "outputs": [
        {
          "output_type": "stream",
          "name": "stdout",
          "text": [
            "x is in Between of 2 and 10\n"
          ]
        }
      ]
    },
    {
      "cell_type": "markdown",
      "source": [
        "## For Loops"
      ],
      "metadata": {
        "id": "rqBJWpRvbiPO"
      }
    },
    {
      "cell_type": "code",
      "source": [
        "list1 = [1,2,3,4,5,6,7,8,9,10]"
      ],
      "metadata": {
        "id": "AT5hNs70bmdE"
      },
      "execution_count": null,
      "outputs": []
    },
    {
      "cell_type": "code",
      "source": [
        "for item in list1:\n",
        "  if item % 2 == 0:\n",
        "    print(item)\n",
        "  else:\n",
        "      print(f\"{item} is not even Number\")"
      ],
      "metadata": {
        "colab": {
          "base_uri": "https://localhost:8080/"
        },
        "id": "ElwX-g8JbsI9",
        "outputId": "b5756ee2-fd72-40aa-c686-451f41a7db25"
      },
      "execution_count": null,
      "outputs": [
        {
          "output_type": "stream",
          "name": "stdout",
          "text": [
            "1 is not even Number\n",
            "2\n",
            "3 is not even Number\n",
            "4\n",
            "5 is not even Number\n",
            "6\n",
            "7 is not even Number\n",
            "8\n",
            "9 is not even Number\n",
            "10\n"
          ]
        }
      ]
    },
    {
      "cell_type": "code",
      "source": [
        "for item in list1:\n",
        "  if item % 2 == 0:\n",
        "    continue\n",
        "  else:\n",
        "      print(f\"{item} is not even Number\")"
      ],
      "metadata": {
        "colab": {
          "base_uri": "https://localhost:8080/"
        },
        "id": "vj_D4qL6hQC0",
        "outputId": "c446fd02-2095-4daf-de22-7b8053eae735"
      },
      "execution_count": null,
      "outputs": [
        {
          "output_type": "stream",
          "name": "stdout",
          "text": [
            "1 is not even Number\n",
            "3 is not even Number\n",
            "5 is not even Number\n",
            "7 is not even Number\n",
            "9 is not even Number\n"
          ]
        }
      ]
    },
    {
      "cell_type": "code",
      "source": [
        "for item in list1:\n",
        "  if item == 5:\n",
        "    break\n",
        "  else:\n",
        "     print(item)"
      ],
      "metadata": {
        "colab": {
          "base_uri": "https://localhost:8080/"
        },
        "id": "knzpbRSuhgar",
        "outputId": "1cefd6d6-0e33-4ffc-f8b7-ce01349e443f"
      },
      "execution_count": null,
      "outputs": [
        {
          "output_type": "stream",
          "name": "stdout",
          "text": [
            "1\n",
            "2\n",
            "3\n",
            "4\n"
          ]
        }
      ]
    },
    {
      "cell_type": "code",
      "source": [],
      "metadata": {
        "id": "qTLySq3ykaox"
      },
      "execution_count": null,
      "outputs": []
    },
    {
      "cell_type": "markdown",
      "source": [
        "##While Loop"
      ],
      "metadata": {
        "id": "DsRXgQzzkgyg"
      }
    },
    {
      "cell_type": "code",
      "source": [
        "x = 0\n",
        "\n",
        "while x < 10:\n",
        "  print(x)\n",
        "  x = x+1\n",
        "\n",
        "print(\"final Value of x is\",x)"
      ],
      "metadata": {
        "colab": {
          "base_uri": "https://localhost:8080/"
        },
        "id": "3MJ28KRmkjp5",
        "outputId": "07712481-e1be-4755-a3ed-1531ffe7b8f9"
      },
      "execution_count": null,
      "outputs": [
        {
          "output_type": "stream",
          "name": "stdout",
          "text": [
            "0\n",
            "1\n",
            "2\n",
            "3\n",
            "4\n",
            "5\n",
            "6\n",
            "7\n",
            "8\n",
            "9\n",
            "final Value of x is 10\n"
          ]
        }
      ]
    },
    {
      "cell_type": "code",
      "source": [
        "x = 11\n",
        "while x > 10:\n",
        "  print(x)\n",
        "  x = x+1\n",
        "  if x == 20:\n",
        "      break\n",
        "  print(\"final Value of x is\",x)\n"
      ],
      "metadata": {
        "colab": {
          "base_uri": "https://localhost:8080/"
        },
        "id": "YVUn6T-SmzKY",
        "outputId": "89bc5109-8af1-4f50-a4fc-edafb52465f6"
      },
      "execution_count": null,
      "outputs": [
        {
          "output_type": "stream",
          "name": "stdout",
          "text": [
            "11\n",
            "final Value of x is 12\n",
            "12\n",
            "final Value of x is 13\n",
            "13\n",
            "final Value of x is 14\n",
            "14\n",
            "final Value of x is 15\n",
            "15\n",
            "final Value of x is 16\n",
            "16\n",
            "final Value of x is 17\n",
            "17\n",
            "final Value of x is 18\n",
            "18\n",
            "final Value of x is 19\n",
            "19\n"
          ]
        }
      ]
    },
    {
      "cell_type": "markdown",
      "source": [
        "##Data Structures in Python\n",
        "\n",
        "1.Lists\n",
        "2.Strings\n",
        "3.Tuples\n",
        "4.Sets\n",
        "5.Dictionaries"
      ],
      "metadata": {
        "id": "348HUY2in1TA"
      }
    },
    {
      "cell_type": "markdown",
      "source": [
        "##Lists\n",
        "####list is a Ordered Collection of item\n",
        "####list can contains any type of elements"
      ],
      "metadata": {
        "id": "ZKKBttSSoB7T"
      }
    },
    {
      "cell_type": "code",
      "source": [
        "lst = [1,2,3,4,5,6,7,8,9,10]"
      ],
      "metadata": {
        "id": "rpcxD6GeoKoY"
      },
      "execution_count": null,
      "outputs": []
    },
    {
      "cell_type": "code",
      "source": [
        "lst = []\n",
        "print(lst)\n",
        "lst = list()\n",
        "print(lst)"
      ],
      "metadata": {
        "colab": {
          "base_uri": "https://localhost:8080/"
        },
        "id": "94sv1UFdoDpi",
        "outputId": "dc8f4f7c-9927-4e04-f105-0177ae978d2e"
      },
      "execution_count": null,
      "outputs": [
        {
          "output_type": "stream",
          "name": "stdout",
          "text": [
            "[]\n",
            "[]\n"
          ]
        }
      ]
    },
    {
      "cell_type": "code",
      "source": [
        "# list can contains int,str, fp, boolean, tuple, dict,set and functions\n",
        "\n",
        "1st = [1,\"name\",2.0,[1,2],True,None,(1,2),{\"name\":\"Alice\"}]"
      ],
      "metadata": {
        "id": "q6yQdlL0qLTd"
      },
      "execution_count": null,
      "outputs": []
    },
    {
      "cell_type": "markdown",
      "source": [
        "##indexing & Slicing"
      ],
      "metadata": {
        "id": "sDmLaGV8om3-"
      }
    },
    {
      "cell_type": "code",
      "source": [
        "# indexing starts from Zero,\n",
        "# [\"a\",\"b\",\"c\"]\n",
        "first = [10, 20, 30]  # Or whatever your actual data is\n",
        "print(first[0])\n",
        "print(first[1])"
      ],
      "metadata": {
        "colab": {
          "base_uri": "https://localhost:8080/"
        },
        "id": "5IpqKD0QqQoY",
        "outputId": "6cc3acf1-c9eb-42ab-e12a-97f40e7faf7d"
      },
      "execution_count": 3,
      "outputs": [
        {
          "output_type": "stream",
          "name": "stdout",
          "text": [
            "10\n",
            "20\n"
          ]
        }
      ]
    },
    {
      "cell_type": "code",
      "source": [
        "lst = [1,2,3,4,5,6,7,8]\n",
        "length = len(lst)\n",
        "print(length)\n",
        "print(lst[length-1])"
      ],
      "metadata": {
        "colab": {
          "base_uri": "https://localhost:8080/"
        },
        "id": "OIKVLnMLuBb2",
        "outputId": "653d18d2-a6c6-40e5-f1f1-16fb5531ecb1"
      },
      "execution_count": 6,
      "outputs": [
        {
          "output_type": "stream",
          "name": "stdout",
          "text": [
            "8\n",
            "8\n"
          ]
        }
      ]
    },
    {
      "cell_type": "code",
      "source": [
        "lst = [1,2,3,4,5,6,7,8]\n",
        "lst[-3:-1]"
      ],
      "metadata": {
        "colab": {
          "base_uri": "https://localhost:8080/"
        },
        "id": "Ngd_x-F-uhRl",
        "outputId": "789fa389-1423-479c-ba12-8fc881d20f64"
      },
      "execution_count": 7,
      "outputs": [
        {
          "output_type": "execute_result",
          "data": {
            "text/plain": [
              "[6, 7]"
            ]
          },
          "metadata": {},
          "execution_count": 7
        }
      ]
    },
    {
      "cell_type": "code",
      "source": [
        "lst[-3:-6:-1]"
      ],
      "metadata": {
        "colab": {
          "base_uri": "https://localhost:8080/"
        },
        "id": "Ps63AjWDu-lX",
        "outputId": "867dccc3-aa29-468f-b5cd-bb38729992f8"
      },
      "execution_count": 8,
      "outputs": [
        {
          "output_type": "execute_result",
          "data": {
            "text/plain": [
              "[6, 5, 4]"
            ]
          },
          "metadata": {},
          "execution_count": 8
        }
      ]
    },
    {
      "cell_type": "markdown",
      "source": [
        "##List Methods"
      ],
      "metadata": {
        "id": "K1ajQU6gvWL4"
      }
    },
    {
      "cell_type": "code",
      "source": [
        "lst =[2,8,5,3,10]\n",
        "lst.append(100)\n",
        "print(lst)"
      ],
      "metadata": {
        "colab": {
          "base_uri": "https://localhost:8080/"
        },
        "id": "NoPhfRTEvYRP",
        "outputId": "cdab5576-2a6c-4b6b-a1a0-4323527a1201"
      },
      "execution_count": 9,
      "outputs": [
        {
          "output_type": "stream",
          "name": "stdout",
          "text": [
            "[2, 8, 5, 3, 10, 100]\n"
          ]
        }
      ]
    },
    {
      "cell_type": "code",
      "source": [
        "lst = [2,8,5,3,10]\n",
        "lst.append([11,9])\n",
        "print(lst)"
      ],
      "metadata": {
        "colab": {
          "base_uri": "https://localhost:8080/"
        },
        "id": "7v3HLvTbvkgK",
        "outputId": "e8703ecb-290c-4cdf-8e29-b622ee22c54d"
      },
      "execution_count": 10,
      "outputs": [
        {
          "output_type": "stream",
          "name": "stdout",
          "text": [
            "[2, 8, 5, 3, 10, [11, 9]]\n"
          ]
        }
      ]
    },
    {
      "cell_type": "code",
      "source": [
        "lst.extend([11,9])\n",
        "print(lst)"
      ],
      "metadata": {
        "colab": {
          "base_uri": "https://localhost:8080/"
        },
        "id": "LS9CrVi6vy0t",
        "outputId": "f1a778c4-0929-43aa-a33f-cf9f94c17625"
      },
      "execution_count": 11,
      "outputs": [
        {
          "output_type": "stream",
          "name": "stdout",
          "text": [
            "[2, 8, 5, 3, 10, [11, 9], 11, 9]\n"
          ]
        }
      ]
    },
    {
      "cell_type": "code",
      "source": [
        "lst = [2,8,5,3,10]\n",
        "lst.append(5)\n",
        "print(lst)"
      ],
      "metadata": {
        "colab": {
          "base_uri": "https://localhost:8080/"
        },
        "id": "OrpNlz32xpL_",
        "outputId": "49f0706a-0029-4c17-f93d-686d96d22d5a"
      },
      "execution_count": 16,
      "outputs": [
        {
          "output_type": "stream",
          "name": "stdout",
          "text": [
            "[2, 8, 5, 3, 10, 5]\n"
          ]
        }
      ]
    },
    {
      "cell_type": "code",
      "source": [
        "lst = [2,8,5,3,10]\n",
        "lst.insert(2,11)\n",
        "print(lst)"
      ],
      "metadata": {
        "colab": {
          "base_uri": "https://localhost:8080/"
        },
        "id": "mumlQkUhyYEd",
        "outputId": "231f8fea-4e04-4384-cca9-d681785ad105"
      },
      "execution_count": 18,
      "outputs": [
        {
          "output_type": "stream",
          "name": "stdout",
          "text": [
            "[2, 8, 11, 5, 3, 10]\n"
          ]
        }
      ]
    },
    {
      "cell_type": "code",
      "source": [
        "lst = [2,8,5,3,10]\n",
        "lst.pop()\n",
        "print(lst)"
      ],
      "metadata": {
        "colab": {
          "base_uri": "https://localhost:8080/"
        },
        "id": "U3yG9p7CymN_",
        "outputId": "60c77a8e-37f0-4900-f68b-b51d997744e1"
      },
      "execution_count": 20,
      "outputs": [
        {
          "output_type": "stream",
          "name": "stdout",
          "text": [
            "[2, 8, 5, 3]\n"
          ]
        }
      ]
    },
    {
      "cell_type": "code",
      "source": [
        "lst = [2,3,5,7,8,9]\n",
        "lst.remove(5)\n",
        "print(lst)"
      ],
      "metadata": {
        "colab": {
          "base_uri": "https://localhost:8080/"
        },
        "id": "1wobbR_Ny3hb",
        "outputId": "676eedbf-c6f1-4069-c386-6477908ab9d9"
      },
      "execution_count": 21,
      "outputs": [
        {
          "output_type": "stream",
          "name": "stdout",
          "text": [
            "[2, 3, 7, 8, 9]\n"
          ]
        }
      ]
    },
    {
      "cell_type": "code",
      "source": [
        "lst = [2,3,5,7,8,7,11,7,9]\n",
        "output_list = [item for item in lst if item != 7]\n",
        "print(output_list)"
      ],
      "metadata": {
        "colab": {
          "base_uri": "https://localhost:8080/"
        },
        "id": "K7k68aCDzWd3",
        "outputId": "c83dc88f-d805-4217-eef3-54da25a3dcf3"
      },
      "execution_count": 22,
      "outputs": [
        {
          "output_type": "stream",
          "name": "stdout",
          "text": [
            "[2, 3, 5, 8, 11, 9]\n"
          ]
        }
      ]
    },
    {
      "cell_type": "code",
      "source": [
        "lst = [2,3,5,7,8,7,11,7,9]\n",
        "lst.clear()\n",
        "print(lst)"
      ],
      "metadata": {
        "colab": {
          "base_uri": "https://localhost:8080/"
        },
        "id": "HtW8TQE60zhH",
        "outputId": "eb368274-41f5-4d32-db82-c71b7d41e178"
      },
      "execution_count": 27,
      "outputs": [
        {
          "output_type": "stream",
          "name": "stdout",
          "text": [
            "[]\n"
          ]
        }
      ]
    },
    {
      "cell_type": "code",
      "source": [
        "lst = [2,3,5,7,8,7,11,7,9]\n",
        "lst.sort()\n",
        "print(lst)"
      ],
      "metadata": {
        "colab": {
          "base_uri": "https://localhost:8080/"
        },
        "id": "JtErE6eq1SvB",
        "outputId": "3ae5de59-1bd1-4373-be96-c5d29584c178"
      },
      "execution_count": 28,
      "outputs": [
        {
          "output_type": "stream",
          "name": "stdout",
          "text": [
            "[2, 3, 5, 7, 7, 7, 8, 9, 11]\n"
          ]
        }
      ]
    },
    {
      "cell_type": "code",
      "source": [
        "lst = [1,3,5,7,6,8,9]\n",
        "lst.reverse()\n",
        "print(lst)"
      ],
      "metadata": {
        "colab": {
          "base_uri": "https://localhost:8080/"
        },
        "id": "aiF7fT4u22bZ",
        "outputId": "5025f490-c401-4172-8547-16a4928c9012"
      },
      "execution_count": 30,
      "outputs": [
        {
          "output_type": "stream",
          "name": "stdout",
          "text": [
            "[9, 8, 6, 7, 5, 3, 1]\n"
          ]
        }
      ]
    },
    {
      "cell_type": "code",
      "source": [
        "lst = [1,3,5,7,6,8,9]\n",
        "sorted_list = sorted(lst, reverse=True)\n",
        "print(sorted_list)"
      ],
      "metadata": {
        "colab": {
          "base_uri": "https://localhost:8080/"
        },
        "id": "cGy8a5jI3ic0",
        "outputId": "bbb1b425-0d7c-4700-ba3c-53e0b46fc16d"
      },
      "execution_count": 31,
      "outputs": [
        {
          "output_type": "stream",
          "name": "stdout",
          "text": [
            "[9, 8, 7, 6, 5, 3, 1]\n"
          ]
        }
      ]
    },
    {
      "cell_type": "code",
      "source": [
        "lst = [1,3,5,7,6,8,9]\n",
        "print(sum(lst))"
      ],
      "metadata": {
        "colab": {
          "base_uri": "https://localhost:8080/"
        },
        "id": "7CI2sOAB4h7n",
        "outputId": "cb75ca3e-2a10-4542-e5b3-fa39ff8dbf3d"
      },
      "execution_count": 32,
      "outputs": [
        {
          "output_type": "stream",
          "name": "stdout",
          "text": [
            "39\n"
          ]
        }
      ]
    },
    {
      "cell_type": "code",
      "source": [
        "lst = [1,3,5,7,6,8,8,8,9]\n",
        "lst.count(8)"
      ],
      "metadata": {
        "colab": {
          "base_uri": "https://localhost:8080/"
        },
        "id": "sbB6P_1P40f5",
        "outputId": "dfe27937-4ba1-42ca-d123-d8b67bd911f2"
      },
      "execution_count": 42,
      "outputs": [
        {
          "output_type": "execute_result",
          "data": {
            "text/plain": [
              "3"
            ]
          },
          "metadata": {},
          "execution_count": 42
        }
      ]
    },
    {
      "cell_type": "code",
      "source": [
        "lst = [1,23,4,5]\n",
        "lst1 = [6,7,8,9]\n",
        "lst2 = lst + lst1\n",
        "print(lst2)"
      ],
      "metadata": {
        "colab": {
          "base_uri": "https://localhost:8080/"
        },
        "id": "iiwofP1n5aVb",
        "outputId": "7d9630e0-48be-4bb8-f7a8-234664237601"
      },
      "execution_count": 43,
      "outputs": [
        {
          "output_type": "stream",
          "name": "stdout",
          "text": [
            "[1, 23, 4, 5, 6, 7, 8, 9]\n"
          ]
        }
      ]
    },
    {
      "cell_type": "code",
      "source": [
        "lst = [1,2,4,6,7,8]\n",
        "lst*4"
      ],
      "metadata": {
        "colab": {
          "base_uri": "https://localhost:8080/"
        },
        "id": "f-P1AKtZ5oxA",
        "outputId": "0b7e2ea8-4a2c-449c-a93f-9a82b92a802b"
      },
      "execution_count": 44,
      "outputs": [
        {
          "output_type": "execute_result",
          "data": {
            "text/plain": [
              "[1, 2, 4, 6, 7, 8, 1, 2, 4, 6, 7, 8, 1, 2, 4, 6, 7, 8, 1, 2, 4, 6, 7, 8]"
            ]
          },
          "metadata": {},
          "execution_count": 44
        }
      ]
    },
    {
      "cell_type": "code",
      "source": [],
      "metadata": {
        "id": "q_ZiROog6rgb"
      },
      "execution_count": null,
      "outputs": []
    }
  ]
}